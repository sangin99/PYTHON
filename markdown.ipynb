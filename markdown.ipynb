{
 "cells": [
  {
   "cell_type": "markdown",
   "metadata": {},
   "source": [
    "Markdown\n",
    "=====\n",
    "텍스트의 서식을 지정할 수 있는 경량 텍스트 언어  \n",
    "HTML과 같은 다른 마크업 언어에 비해 사용이 편함"
   ]
  },
  {
   "cell_type": "code",
   "execution_count": null,
   "metadata": {},
   "outputs": [],
   "source": [
    "#? 제목 표시\n",
    "\n",
    "#? h1 ~ h6 제목의 크기와 중요도\n",
    "#? h1 : 가장 중요한 제목\n",
    "#? h6 : 단락의 제목 혹은 주석? 각주?의 제목\n",
    "\n",
    "#? # : h1 제목\n",
    "#? ## : h2 제목\n",
    "#? ### : h3 제목\n",
    "#? #### : h4 제목\n",
    "#? ##### : h5 제목\n",
    "#? ###### : h6 제목\n",
    "\n",
    "#? 내용\n",
    "#? =====\n",
    "#? : h1 제목\n",
    "\n",
    "#? 내용\n",
    "#? -----\n",
    "#? : h2 제목"
   ]
  },
  {
   "cell_type": "markdown",
   "metadata": {},
   "source": [
    "# h1\n",
    "## h2\n",
    "### h3\n",
    "#### h4\n",
    "##### h5\n",
    "###### h6"
   ]
  },
  {
   "cell_type": "markdown",
   "metadata": {},
   "source": [
    "h1\n",
    "=====\n",
    "h2\n",
    "-----"
   ]
  },
  {
   "cell_type": "code",
   "execution_count": 1,
   "metadata": {},
   "outputs": [],
   "source": [
    "#? 문자 강조\n",
    "\n",
    "#? 이텔릭체 표기, 두껍게 표기, 취소선, 밑줄 표기\n",
    "\n",
    "#? *내용적기* or _내용적기_ : 이텔릭체 표기\n",
    "#? **내용적기** or __내용적기__ : 두껍게 표기\n",
    "#? ~~내용적기~~ : 취소선 표기\n",
    "\n",
    "#? 밑줄은 마크다운에서 지원하지 않음 -> 다른 걸 사용 ex) HTML\n",
    "#? HTML 밑줄 사용\n",
    "#? <U>내용적기</u>"
   ]
  },
  {
   "cell_type": "markdown",
   "metadata": {},
   "source": [
    "*이텔릭체*\n",
    "**두껍게**\n",
    "_**두꺼운**이텔릭체_\n",
    "~~취소선~~\n",
    "<u>밑줄</u>"
   ]
  },
  {
   "cell_type": "code",
   "execution_count": null,
   "metadata": {},
   "outputs": [],
   "source": [
    "#? 줄바꿈\n",
    "\n",
    "#? 띄어쓰기 2번으로 줄바꿈 처리\n",
    "#? <br>으로 줄바꿈 처리 : HTML"
   ]
  },
  {
   "cell_type": "markdown",
   "metadata": {},
   "source": [
    "첫번쨰줄 (띄어쓰기 1번) \n",
    "두번쨰줄 (띄어쓰기 2번)   \n",
    "세번째줄"
   ]
  },
  {
   "cell_type": "markdown",
   "metadata": {},
   "source": [
    "첫번째줄<br>두번째줄<br>세번쨰줄"
   ]
  },
  {
   "cell_type": "code",
   "execution_count": null,
   "metadata": {},
   "outputs": [],
   "source": [
    "#? 글자 색상\n",
    "\n",
    "#? 마크다운은 글자 색상에 대한 스타일을 지원하지 않음\n",
    "#? 다른 마크업 언어의 스타일 사용\n",
    "#? HTML : <span style='color: 색상;'>내용적기</span> : 글자 색상\n",
    "#? HTML : <span style='background-color: 색상;'>내용적기</span> : 글자 배경 색상\n",
    "\n",
    "#? 키워드로 된 색상과 rgb 혹은 hex 값으로 지정 가능"
   ]
  },
  {
   "cell_type": "markdown",
   "metadata": {},
   "source": [
    "<span style='color:red;'>빨간글씨</span>  \n",
    "<span style='background-color:rgba(255, 255, 0, 0.4);'>형광느낌</span>  "
   ]
  },
  {
   "cell_type": "code",
   "execution_count": null,
   "metadata": {},
   "outputs": [],
   "source": [
    "#? 코드 표시\n",
    "\n",
    "#? 1) 인라인 표시 방식\n",
    "#?  - 지정한 글자에 대해서만 표기\n",
    "#?  - '내용적기' 으로 감싸서 표시 가능\n",
    "\n",
    "#? 2) 블럭 표시 방식\n",
    "#?  - 지정한 문단 전체에 대해서 표기\n",
    "#?  - '''내용적기''' 로 감싸서 표시 가능\n",
    "\n",
    "#? '''언어 내용 '''으로 특정 언어로 코드 강조 표시"
   ]
  },
  {
   "cell_type": "markdown",
   "metadata": {},
   "source": [
    "`private static` 표시    \n",
    "```python\n",
    "for index in range(10):\n",
    "    print(index)\n",
    "```"
   ]
  },
  {
   "cell_type": "code",
   "execution_count": null,
   "metadata": {},
   "outputs": [],
   "source": [
    "# 실선, 구분선\n",
    "\n",
    "#? ***,___ : 가로 실선 표시\n",
    "#? <hr> : 가로 실선 표시"
   ]
  },
  {
   "cell_type": "markdown",
   "metadata": {},
   "source": [
    "***\n",
    "안녕\n",
    "___\n",
    "잘가\n",
    "<hr>"
   ]
  },
  {
   "cell_type": "code",
   "execution_count": null,
   "metadata": {},
   "outputs": [],
   "source": [
    "#? 테이블 표시\n",
    "\n",
    "# | 컬럼명1 | 컬럼명2 | 컬럼명3 |\n",
    "# | --- | --- | --- |\n",
    "# | 필드1 | 필드2 | 필드3 |\n",
    "# | 필드4 | 필드5 | 필드6|\n",
    "\n",
    "#? : 테이블 표시 가능\n",
    "\n",
    "#? '---', ':---' : 죄측 정렬\n",
    "#? '---', '---:' : 우측 정렬\n",
    "#? ':---:' : 중앙 정렬\n",
    " "
   ]
  },
  {
   "cell_type": "markdown",
   "metadata": {},
   "source": [
    "| 컬럼명1 | 컬럼명2 | 컬럼명3 |\n",
    "| --- | :---: | --- |\n",
    "| 필드1 | 필드2 | 필드3 |\n",
    "| 필드4 | 필드5 | 필드6|"
   ]
  },
  {
   "cell_type": "code",
   "execution_count": null,
   "metadata": {},
   "outputs": [],
   "source": [
    "#? 이미지\n",
    "\n",
    "#? ![대체텍스트](이미주소)\n",
    "#? ![대체텍스트](이미지주소, '이미지 설명')"
   ]
  },
  {
   "cell_type": "markdown",
   "metadata": {},
   "source": [
    "![강아지](https://search.pstatic.net/common/?src=http%3A%2F%2Fblogfiles.naver.net%2FMjAyNDAxMDlfNzYg%2FMDAxNzA0Nzg3NzgyMzAy.WbonT0DkTKCXS7kgff3NxVdPDMj-50y8gfcxcE5tp-Eg.nyRm80bjRHgaten6vEn7kthYcGL9FFGB4l7B6eJ_eeAg.JPEG.bj9795%2F20240109_170740.jpg&type=sc960_832)\n",
    "\n",
    "![강아지](https://search.pstatic.net/common/?src=http%3A%2F%2Fblogfiles.naver.net%2FMjAyNDAxMDlfNzYg%2FMDAxNzA0Nzg3NzgyMzAy.WbonT0DkTKCXS7kgff3NxVdPDMj-50y8gfcxcE5tp-Eg.nyRm80bjRHgaten6vEn7kthYcGL9FFGB4l7B6eJ_eeAg.JPEG.bj9795%2F20240109_170740.jpg&type=sc960_832, '귀여운 강아지')"
   ]
  },
  {
   "cell_type": "code",
   "execution_count": null,
   "metadata": {},
   "outputs": [],
   "source": [
    "#? 링크\n",
    "\n",
    "#? [이름](링크)\n",
    "#? [이름](링크 \"링크 설명\")"
   ]
  },
  {
   "cell_type": "markdown",
   "metadata": {},
   "source": [
    "[구글](https://google.com \"구글 홈페이지\")"
   ]
  }
 ],
 "metadata": {
  "kernelspec": {
   "display_name": "Python 3",
   "language": "python",
   "name": "python3"
  },
  "language_info": {
   "codemirror_mode": {
    "name": "ipython",
    "version": 3
   },
   "file_extension": ".py",
   "mimetype": "text/x-python",
   "name": "python",
   "nbconvert_exporter": "python",
   "pygments_lexer": "ipython3",
   "version": "3.12.2"
  }
 },
 "nbformat": 4,
 "nbformat_minor": 2
}
