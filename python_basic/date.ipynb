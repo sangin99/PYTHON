{
 "cells": [
  {
   "cell_type": "code",
   "execution_count": 2,
   "metadata": {},
   "outputs": [],
   "source": [
    "# datetime 패키지\n",
    "\n",
    "# datetime 패키지는 날짜 및 시간을 관리하는 datetime 클래스, 날짜를 관리하는 date 클래스, \n",
    "# 시간을 관리하는 time 클래스, 시간 구간을 관리하는 timedelta 클래스를 제공함"
   ]
  },
  {
   "cell_type": "code",
   "execution_count": 3,
   "metadata": {},
   "outputs": [
    {
     "data": {
      "text/plain": [
       "<module 'datetime' from 'c:\\\\Users\\\\ITPS\\\\AppData\\\\Local\\\\Programs\\\\Python\\\\Python312\\\\Lib\\\\datetime.py'>"
      ]
     },
     "execution_count": 3,
     "metadata": {},
     "output_type": "execute_result"
    }
   ],
   "source": [
    "import datetime as dt\n",
    "dt"
   ]
  },
  {
   "cell_type": "code",
   "execution_count": 4,
   "metadata": {},
   "outputs": [],
   "source": [
    "# datetime.datetime 클래스\n",
    "# now() 메서드 : 현재 시간을 반환하는 메서드"
   ]
  },
  {
   "cell_type": "code",
   "execution_count": 5,
   "metadata": {},
   "outputs": [
    {
     "data": {
      "text/plain": [
       "datetime.datetime(2024, 2, 21, 9, 18, 43, 184410)"
      ]
     },
     "execution_count": 5,
     "metadata": {},
     "output_type": "execute_result"
    }
   ],
   "source": [
    "now = dt.datetime.now()\n",
    "now"
   ]
  },
  {
   "cell_type": "code",
   "execution_count": 6,
   "metadata": {},
   "outputs": [],
   "source": [
    "# datetime 인스턴스는 year, month, day, hour, minute, second, microsecond 속성을 가지고 있음"
   ]
  },
  {
   "cell_type": "code",
   "execution_count": 7,
   "metadata": {},
   "outputs": [
    {
     "data": {
      "text/plain": [
       "(2024, 2, 21, 9, 18, 43, 184410)"
      ]
     },
     "execution_count": 7,
     "metadata": {},
     "output_type": "execute_result"
    }
   ],
   "source": [
    "now.year, now.month, now.day, now.hour, now.minute, now.second, now.microsecond"
   ]
  },
  {
   "cell_type": "code",
   "execution_count": 8,
   "metadata": {},
   "outputs": [],
   "source": [
    "# datetime 인스턴스의 메서드 weekday()는 요일을 반환한다 (0:월 ~ 6:일)"
   ]
  },
  {
   "cell_type": "code",
   "execution_count": 9,
   "metadata": {},
   "outputs": [
    {
     "data": {
      "text/plain": [
       "2"
      ]
     },
     "execution_count": 9,
     "metadata": {},
     "output_type": "execute_result"
    }
   ],
   "source": [
    "now.weekday()"
   ]
  },
  {
   "cell_type": "code",
   "execution_count": 10,
   "metadata": {},
   "outputs": [],
   "source": [
    "# datetime 인스턴스의 메서드 strftime('날짜 및 시간 포멧 문자열')은\n",
    "# 인스턴스에 저장된 시간을 지정한 포멧의 문자열로 변환\n",
    "\n",
    "# %Y : 4자리의 연도  (대문자)        \n",
    "# %m : 2자리의 월  (소)\n",
    "# %d : 2자리의 일  (소)\n",
    "# %H : 24시간으로 표현되는 시간  (대문자)\n",
    "# %I : 12시간으로 표현되는 시간  (대문자)\n",
    "# %p : 오전,오후(am.pm)표현  (소)\n",
    "# %M : 2자리의 분  (대문자)\n",
    "# %S : 2자리의 초  (대문자)\n",
    "# %A : 영문자로된 요일  (대문자)"
   ]
  },
  {
   "cell_type": "code",
   "execution_count": 11,
   "metadata": {},
   "outputs": [
    {
     "data": {
      "text/plain": [
       "'AM 09:18 2024-02-21'"
      ]
     },
     "execution_count": 11,
     "metadata": {},
     "output_type": "execute_result"
    }
   ],
   "source": [
    "# 예시) 현재시간을 표현해보자. -> PM 02:28 2024-02-20 \n",
    "now.strftime('%p %I:%M %Y-%m-%d')"
   ]
  },
  {
   "cell_type": "code",
   "execution_count": 12,
   "metadata": {},
   "outputs": [],
   "source": [
    "# datetime 클래스의 클래스 메서드 strptime('날짜문자열','날짜 및 시간 포멧 문자열')은\n",
    "# 문자열을 datetime 인스턴스로 변경 "
   ]
  },
  {
   "cell_type": "code",
   "execution_count": 13,
   "metadata": {},
   "outputs": [
    {
     "data": {
      "text/plain": [
       "datetime.datetime(2023, 11, 20, 0, 0)"
      ]
     },
     "execution_count": 13,
     "metadata": {},
     "output_type": "execute_result"
    }
   ],
   "source": [
    "dt.datetime.strptime('2023-11-20',\"%Y-%m-%d\")"
   ]
  },
  {
   "cell_type": "code",
   "execution_count": 14,
   "metadata": {},
   "outputs": [
    {
     "data": {
      "text/plain": [
       "24"
      ]
     },
     "execution_count": 14,
     "metadata": {},
     "output_type": "execute_result"
    }
   ],
   "source": [
    "# 예제 문제)\n",
    "\n",
    "# 자신의 생일을 나타내는 datetime 클래스 객체를 만들고 오늘 자신의 만 나이를 구하라.\n",
    "my_birth = dt.datetime.strptime('1999-07-16','%Y-%m-%d')\n",
    "now = dt.datetime.now()\n",
    "\n",
    "age = now.year - my_birth.year  # 만나이 계산식\n",
    "if now.month < my_birth.month:\n",
    "    age -= 1\n",
    "elif now.month == my_birth.month and now.day < my_birth.day:\n",
    "    age -= 1\n",
    "\n",
    "age"
   ]
  },
  {
   "cell_type": "code",
   "execution_count": 15,
   "metadata": {},
   "outputs": [],
   "source": [
    "# dateutil 패키지\n",
    "\n",
    "# dateutil 패키지의 parser 하위 패키지 parse 함수로 사용하여 문자열 형식의\n",
    "# 데이터를 자동으로 datetime 클래스의 인스턴스로 변경해줌"
   ]
  },
  {
   "cell_type": "code",
   "execution_count": 16,
   "metadata": {},
   "outputs": [],
   "source": [
    "from dateutil.parser import parse"
   ]
  },
  {
   "cell_type": "code",
   "execution_count": 17,
   "metadata": {},
   "outputs": [
    {
     "data": {
      "text/plain": [
       "datetime.datetime(2024, 2, 20, 0, 0)"
      ]
     },
     "execution_count": 17,
     "metadata": {},
     "output_type": "execute_result"
    }
   ],
   "source": [
    "parse('2024-02-20')"
   ]
  },
  {
   "cell_type": "code",
   "execution_count": 18,
   "metadata": {},
   "outputs": [],
   "source": [
    "# 날짜 및 시간의 차이 구하기\n",
    "\n",
    "# datetime 인스턴스 끼리 - 연산으로 날짜 및 시간의 차이를 구할 수 있음\n",
    "# 날짜 및 시간의 차이는 timedelta 클래스의 인스턴스로 반환"
   ]
  },
  {
   "cell_type": "code",
   "execution_count": 19,
   "metadata": {},
   "outputs": [
    {
     "data": {
      "text/plain": [
       "datetime.timedelta(days=8, seconds=52876, microseconds=733624)"
      ]
     },
     "execution_count": 19,
     "metadata": {},
     "output_type": "execute_result"
    }
   ],
   "source": [
    "date1 = dt.datetime.strptime('2024-03-01','%Y-%m-%d')\n",
    "date2 = dt.datetime.now()\n",
    "date_gap = date1 - date2\n",
    "date_gap"
   ]
  },
  {
   "cell_type": "code",
   "execution_count": 20,
   "metadata": {},
   "outputs": [
    {
     "data": {
      "text/plain": [
       "733624"
      ]
     },
     "execution_count": 20,
     "metadata": {},
     "output_type": "execute_result"
    }
   ],
   "source": [
    "date_gap.days          # 일 단위 보기\n",
    "date_gap.seconds       # 분 단위 보기\n",
    "date_gap.microseconds  # 초 단위 보기"
   ]
  },
  {
   "cell_type": "code",
   "execution_count": 21,
   "metadata": {},
   "outputs": [
    {
     "data": {
      "text/plain": [
       "744076.733624"
      ]
     },
     "execution_count": 21,
     "metadata": {},
     "output_type": "execute_result"
    }
   ],
   "source": [
    "date_gap.total_seconds()"
   ]
  },
  {
   "cell_type": "code",
   "execution_count": 22,
   "metadata": {},
   "outputs": [],
   "source": [
    "# 날짜 및 시간 연산하기\n",
    "\n",
    "# datetime 인스턴스에 timedelta 인스턴스를 +/- 하여 날짜를 연산 할 수 있음"
   ]
  },
  {
   "cell_type": "code",
   "execution_count": 23,
   "metadata": {},
   "outputs": [
    {
     "data": {
      "text/plain": [
       "datetime.datetime(2024, 2, 11, 9, 18, 43, 240964)"
      ]
     },
     "execution_count": 23,
     "metadata": {},
     "output_type": "execute_result"
    }
   ],
   "source": [
    "date_gap = dt.timedelta(days = 10, seconds = 0)\n",
    "now + date_gap\n",
    "now - date_gap"
   ]
  },
  {
   "cell_type": "code",
   "execution_count": 24,
   "metadata": {},
   "outputs": [],
   "source": [
    "# dateutil 패키지의 하위 relativedelta 패키지의 relativedelta 메서드\n",
    "# timedelta 가 day 단위로 연산 할 수 있는 단점을 보완하기 위해 relativedelta\n",
    "# 메서드로 월단위 연산을 할 수있도록 함"
   ]
  },
  {
   "cell_type": "code",
   "execution_count": 25,
   "metadata": {},
   "outputs": [
    {
     "data": {
      "text/plain": [
       "datetime.datetime(2023, 11, 21, 9, 18, 43, 240964)"
      ]
     },
     "execution_count": 25,
     "metadata": {},
     "output_type": "execute_result"
    }
   ],
   "source": [
    "from dateutil.relativedelta import relativedelta\n",
    "now - relativedelta(months = 3)   # 오늘로 부터 3개월 전을 출력"
   ]
  },
  {
   "cell_type": "code",
   "execution_count": 26,
   "metadata": {},
   "outputs": [],
   "source": [
    "# 예제 문제)\n",
    "\n",
    "# 1. 자신의 내년 생일까지 남은 날 수를 계산하라.\n",
    "# 2. 자신의 내년 생일까지 남은 시간을 분 단위로 계산하라."
   ]
  },
  {
   "cell_type": "code",
   "execution_count": 27,
   "metadata": {},
   "outputs": [
    {
     "data": {
      "text/plain": [
       "datetime.timedelta(days=145, seconds=52876, microseconds=687462)"
      ]
     },
     "execution_count": 27,
     "metadata": {},
     "output_type": "execute_result"
    }
   ],
   "source": [
    "date1 = dt.datetime.strptime('2024-07-16','%Y-%m-%d')\n",
    "date2 = dt.datetime.now()\n",
    "d_day = date1 - date2\n",
    "d_day"
   ]
  },
  {
   "cell_type": "code",
   "execution_count": 28,
   "metadata": {},
   "outputs": [
    {
     "data": {
      "text/plain": [
       "145"
      ]
     },
     "execution_count": 28,
     "metadata": {},
     "output_type": "execute_result"
    }
   ],
   "source": [
    "d_day.days"
   ]
  },
  {
   "cell_type": "code",
   "execution_count": 29,
   "metadata": {},
   "outputs": [
    {
     "data": {
      "text/plain": [
       "52876"
      ]
     },
     "execution_count": 29,
     "metadata": {},
     "output_type": "execute_result"
    }
   ],
   "source": [
    "d_day.seconds"
   ]
  },
  {
   "cell_type": "code",
   "execution_count": 30,
   "metadata": {},
   "outputs": [],
   "source": [
    "now = dt.datetime.now()\n",
    "my_birth = dt.datetime.strptime('2025-07-16', '%Y-%m-%d')\n",
    "\n",
    "day_gap = my_birth - now\n",
    "is_zero_second = day_gap.seconds == 0 and day_gap.microseconds == 0\n",
    "\n",
    "rest_day = day_gap.days if is_zero_second else day_gap.days + 1\n",
    "rest_minute = day_gap.total_seconds() / 60"
   ]
  },
  {
   "cell_type": "code",
   "execution_count": 31,
   "metadata": {},
   "outputs": [],
   "source": [
    "# time 패키지 sleep 메서드\n",
    "# 지정한 초만큼 프로세스 진행을 멈추도록 하는 메서드"
   ]
  },
  {
   "cell_type": "code",
   "execution_count": 32,
   "metadata": {},
   "outputs": [
    {
     "name": "stdout",
     "output_type": "stream",
     "text": [
      "5\n"
     ]
    },
    {
     "name": "stdout",
     "output_type": "stream",
     "text": [
      "4\n",
      "3\n",
      "2\n",
      "1\n",
      "종료\n"
     ]
    }
   ],
   "source": [
    "import time\n",
    "\n",
    "print(5)\n",
    "time.sleep(1)\n",
    "print(4)\n",
    "time.sleep(1)\n",
    "print(3)\n",
    "time.sleep(1)\n",
    "print(2)\n",
    "time.sleep(1)\n",
    "print(1)\n",
    "time.sleep(1)\n",
    "print('종료')"
   ]
  }
 ],
 "metadata": {
  "kernelspec": {
   "display_name": "Python 3",
   "language": "python",
   "name": "python3"
  },
  "language_info": {
   "codemirror_mode": {
    "name": "ipython",
    "version": 3
   },
   "file_extension": ".py",
   "mimetype": "text/x-python",
   "name": "python",
   "nbconvert_exporter": "python",
   "pygments_lexer": "ipython3",
   "version": "3.12.2"
  }
 },
 "nbformat": 4,
 "nbformat_minor": 2
}
