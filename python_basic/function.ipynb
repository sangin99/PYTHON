{
 "cells": [
  {
   "cell_type": "code",
   "execution_count": null,
   "metadata": {},
   "outputs": [],
   "source": [
    "# 함수 : 실행할 코드를 미를 지정해두는 것\n",
    "# def 함수명 (매개변수[,...]):\n",
    "#     실행문\n",
    "#     return 결과"
   ]
  },
  {
   "cell_type": "code",
   "execution_count": 1,
   "metadata": {},
   "outputs": [],
   "source": [
    "# ex) 짝수가 입력되면 짝수라는 문자열을, 홀수가 입력되면 홀수라는 문자열을 반환하는 함수를 만든다\n",
    "def check (number):\n",
    "    # 삼항 연산자\n",
    "    # 다른언어 : 조건 ? (true일 때) : (false일 때)\n",
    "    # *파이썬 : (true일 때) if 조건 else (false일 때)\n",
    "    result = '짝수' if number % 2 == 0 else '홀수'\n",
    "    return result"
   ]
  },
  {
   "cell_type": "code",
   "execution_count": 3,
   "metadata": {},
   "outputs": [
    {
     "data": {
      "text/plain": [
       "'짝수'"
      ]
     },
     "execution_count": 3,
     "metadata": {},
     "output_type": "execute_result"
    }
   ],
   "source": [
    "check(4)"
   ]
  },
  {
   "cell_type": "code",
   "execution_count": null,
   "metadata": {},
   "outputs": [],
   "source": [
    "# ex) 1, 3, 5, 7, 8, 10, 12 월은 31일, 4, 6, 9, 11월은 30일, 2월은 28일이다. \n",
    "#       월을 나타내는 숫자를 입력하면 그 달의 날짜 수를 반환하는 함수 days1 를 만든다"
   ]
  },
  {
   "cell_type": "code",
   "execution_count": 18,
   "metadata": {},
   "outputs": [],
   "source": [
    "def days1 (month):\n",
    "    result = 28\n",
    "\n",
    "    if (month == 1) | (month == 3) | (month == 5) | (month == 7) | (month == 8) | (month == 10) | (month == 12):\n",
    "        result = 31\n",
    "    elif (month == 4) | (month == 6) | (month == 9) | (month == 11):\n",
    "        result = 30\n",
    "        \n",
    "    return result"
   ]
  },
  {
   "cell_type": "code",
   "execution_count": 20,
   "metadata": {},
   "outputs": [
    {
     "data": {
      "text/plain": [
       "31"
      ]
     },
     "execution_count": 20,
     "metadata": {},
     "output_type": "execute_result"
    }
   ],
   "source": [
    "days1(8)"
   ]
  },
  {
   "cell_type": "code",
   "execution_count": null,
   "metadata": {},
   "outputs": [],
   "source": [
    "# 파이썬의 함수는 return 으로 여러 개의 결과를 반환 가능\n",
    "# def 함수명 (매개변수[,...]):\n",
    "#   return 반환값1, 반환값2\n",
    "\n",
    "# 변수 = 함수명(매개변수)\n",
    "# 변수1, 변수2 = 함수명(매개변수)"
   ]
  },
  {
   "cell_type": "code",
   "execution_count": 21,
   "metadata": {},
   "outputs": [],
   "source": [
    "def func1 ():\n",
    "    return 1, 3"
   ]
  },
  {
   "cell_type": "code",
   "execution_count": 22,
   "metadata": {},
   "outputs": [
    {
     "name": "stdout",
     "output_type": "stream",
     "text": [
      "1, 3\n",
      "(1, 3)\n"
     ]
    }
   ],
   "source": [
    "x , y = func1()\n",
    "print(f'{x}, {y}')\n",
    "z = func1()\n",
    "print(f'{z}')"
   ]
  },
  {
   "cell_type": "code",
   "execution_count": 27,
   "metadata": {},
   "outputs": [],
   "source": [
    "# ex) 연도를 나타내는 숫자와 월을 나타내는 숫자를 입력하면 그 연도가 윤년인지 아닌지 값과 달의 날짜 수를 반환하는 함수 days2 를 만든다\n",
    "def days2 (year, month):\n",
    "    leapYear = '평년'\n",
    "    lastDay = 28\n",
    "\n",
    "    if (year % 400 == 0) | ((year % 4 == 0) & (year % 100 != 0)):\n",
    "        leapYear = '윤년'\n",
    "    \n",
    "    if (month == 1) | (month == 3) | (month == 5) | (month == 7) | (month == 8) | (month == 10) | (month == 12):\n",
    "        lastDay = 31\n",
    "    elif  (month == 4) | (month == 6) | (month == 9) | (month == 11):\n",
    "        lastDay = 30\n",
    "    else:\n",
    "        if leapYear == '윤년':\n",
    "            lastDay = 29\n",
    "        else:\n",
    "            lastDay = 28\n",
    "\n",
    "    return leapYear , lastDay\n"
   ]
  },
  {
   "cell_type": "code",
   "execution_count": 28,
   "metadata": {},
   "outputs": [
    {
     "data": {
      "text/plain": [
       "('윤년', 29)"
      ]
     },
     "execution_count": 28,
     "metadata": {},
     "output_type": "execute_result"
    }
   ],
   "source": [
    "days2(2000,2)"
   ]
  },
  {
   "cell_type": "code",
   "execution_count": null,
   "metadata": {},
   "outputs": [],
   "source": [
    "# 람다 함수 \n",
    "# 이름 없이 선언하는 함수, 함수를 변수에 담아서 사용할 수 있도록 해줌\n",
    "# 변수 = lambda 매개변수[,...]: 실행코드\n",
    "# 파이썬에서 람다함수는 실행코드를 여러줄 작성할 수 있음   "
   ]
  },
  {
   "cell_type": "code",
   "execution_count": 29,
   "metadata": {},
   "outputs": [],
   "source": [
    "func2 = lambda x: 2 * x\n",
    "# 같은 수식 = #\n",
    "def f2 (x):\n",
    "    return 2 *  x"
   ]
  },
  {
   "cell_type": "code",
   "execution_count": 31,
   "metadata": {},
   "outputs": [
    {
     "data": {
      "text/plain": [
       "312"
      ]
     },
     "execution_count": 31,
     "metadata": {},
     "output_type": "execute_result"
    }
   ],
   "source": [
    "func2(156)"
   ]
  },
  {
   "cell_type": "code",
   "execution_count": null,
   "metadata": {},
   "outputs": [],
   "source": [
    "# 지역변수와 전역변수\n",
    "# 지역에서 선언된 변수는 지역 바깥에서 사용할 수 없음"
   ]
  },
  {
   "cell_type": "code",
   "execution_count": 32,
   "metadata": {},
   "outputs": [],
   "source": [
    "local_variable = 100"
   ]
  },
  {
   "cell_type": "code",
   "execution_count": 33,
   "metadata": {},
   "outputs": [],
   "source": [
    "def func3 ():\n",
    "    local_variable = 10\n",
    "    return local_variable"
   ]
  },
  {
   "cell_type": "code",
   "execution_count": 34,
   "metadata": {},
   "outputs": [
    {
     "data": {
      "text/plain": [
       "100"
      ]
     },
     "execution_count": 34,
     "metadata": {},
     "output_type": "execute_result"
    }
   ],
   "source": [
    "func3 ()\n",
    "local_variable"
   ]
  },
  {
   "cell_type": "code",
   "execution_count": null,
   "metadata": {},
   "outputs": [],
   "source": [
    "# 전역에 선언된 변수를 지역에서 사용하고자 한다면\n",
    "# 사용전에 먼저 global 키워드로 특정 전역변수를 사용하겠디고 지정함"
   ]
  },
  {
   "cell_type": "code",
   "execution_count": 35,
   "metadata": {},
   "outputs": [],
   "source": [
    "local_variable = 100"
   ]
  },
  {
   "cell_type": "code",
   "execution_count": 36,
   "metadata": {},
   "outputs": [],
   "source": [
    "def func4 ():\n",
    "    global local_variable\n",
    "    local_variable = 10"
   ]
  },
  {
   "cell_type": "code",
   "execution_count": 37,
   "metadata": {},
   "outputs": [
    {
     "data": {
      "text/plain": [
       "10"
      ]
     },
     "execution_count": 37,
     "metadata": {},
     "output_type": "execute_result"
    }
   ],
   "source": [
    "func4()\n",
    "local_variable"
   ]
  },
  {
   "cell_type": "code",
   "execution_count": null,
   "metadata": {},
   "outputs": [],
   "source": []
  }
 ],
 "metadata": {
  "kernelspec": {
   "display_name": "Python 3",
   "language": "python",
   "name": "python3"
  },
  "language_info": {
   "codemirror_mode": {
    "name": "ipython",
    "version": 3
   },
   "file_extension": ".py",
   "mimetype": "text/x-python",
   "name": "python",
   "nbconvert_exporter": "python",
   "pygments_lexer": "ipython3",
   "version": "3.12.2"
  }
 },
 "nbformat": 4,
 "nbformat_minor": 2
}
