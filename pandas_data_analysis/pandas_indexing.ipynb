{
 "cells": [
  {
   "cell_type": "code",
   "execution_count": null,
   "metadata": {},
   "outputs": [],
   "source": [
    "import pandas as pd\n",
    "import numpy as np"
   ]
  },
  {
   "cell_type": "markdown",
   "metadata": {},
   "source": [
    "### <span style='background-color:rgba(200, 100, 100, 0.6);'>데이터프레임 고급 인덱싱</span>\n",
    "\n",
    "판다스 데이터프레임의 인덱싱은 라벨, 라벨 리스트, 행 인덱스 슬라이스의 인덱싱  \n",
    "형태 뿐만 아니라 numpy 와 같은 ',' 룰 이용한 `(행 인덱스, 열 인덱스)` 형식의 2차원 인덱스도 제공함\n",
    "\n",
    "- `ioc` 속성 : 라벨 기반의 2차원 인덱서\n",
    "- `iloc` 속성 : 순서를 나타내는 정수 기반의 2차원 인덱서"
   ]
  },
  {
   "cell_type": "markdown",
   "metadata": {},
   "source": [
    "#### <span style='background-color:rgba(100, 50, 200, 0.5);'>`loc` 인덱서</span>\n",
    "행 인덱스 값과 열 인덱스 값을 이용하여 인덱싱을 해주는 인덱서\n",
    "\n",
    "df.loc[행인덱스값]  \n",
    "df.loc[행인덱스값, 열인덱스값]"
   ]
  },
  {
   "cell_type": "code",
   "execution_count": null,
   "metadata": {},
   "outputs": [],
   "source": [
    "df = pd.DataFrame(np.arange(10, 22).reshape(3, 4), index=['a', 'b', 'c'], columns=['A', 'B', 'C', 'D'])\n",
    "df"
   ]
  },
  {
   "cell_type": "code",
   "execution_count": null,
   "metadata": {},
   "outputs": [],
   "source": [
    "df.loc['a']"
   ]
  },
  {
   "cell_type": "code",
   "execution_count": null,
   "metadata": {},
   "outputs": [],
   "source": [
    "df.loc[['a', 'b']]"
   ]
  },
  {
   "cell_type": "code",
   "execution_count": null,
   "metadata": {},
   "outputs": [],
   "source": [
    "df.loc['a': 'b']"
   ]
  },
  {
   "cell_type": "code",
   "execution_count": null,
   "metadata": {},
   "outputs": [],
   "source": [
    "df.loc[['a']]  #하나만 넣어도, 데이터 프레임 형태로 반환"
   ]
  },
  {
   "cell_type": "code",
   "execution_count": null,
   "metadata": {},
   "outputs": [],
   "source": [
    "df.loc[df.A > 13]"
   ]
  },
  {
   "cell_type": "markdown",
   "metadata": {},
   "source": [
    "인덱스 값으로 열 인덱스 값을 반환하는 함수를 사용할 수 있음"
   ]
  },
  {
   "cell_type": "code",
   "execution_count": null,
   "metadata": {},
   "outputs": [],
   "source": [
    "def select_rows(df):\n",
    "    return df.A > 12"
   ]
  },
  {
   "cell_type": "code",
   "execution_count": null,
   "metadata": {},
   "outputs": [],
   "source": [
    "df.loc[select_rows(df)]"
   ]
  },
  {
   "cell_type": "markdown",
   "metadata": {},
   "source": [
    "`loc` 없이 인덱싱을 할떄는 `[]`에 열 인덱스에 대한 인덱싱을 하였는데 `loc`는 열 인덱싱으로 지정할 수 없음"
   ]
  },
  {
   "cell_type": "code",
   "execution_count": null,
   "metadata": {},
   "outputs": [],
   "source": [
    "df.loc['A']  # 에러 발생"
   ]
  },
  {
   "cell_type": "markdown",
   "metadata": {},
   "source": [
    "`loc` 인덱싱에서 정수로 되어있는 행이라고 할 지라도 슬라이싱시에 종료 인덱스 값에 대한 결과도 포함하여 출력됨"
   ]
  },
  {
   "cell_type": "code",
   "execution_count": null,
   "metadata": {},
   "outputs": [],
   "source": [
    "df2 = pd.DataFrame(np.arange(10,26).reshape(4,4), columns=['A','B','C','D'])\n",
    "df2"
   ]
  },
  {
   "cell_type": "code",
   "execution_count": null,
   "metadata": {},
   "outputs": [],
   "source": [
    "df2.loc[0:2] # 정수로 할 수 없음"
   ]
  },
  {
   "cell_type": "markdown",
   "metadata": {},
   "source": [
    "#### <span style='background-color:rgba(100, 50, 200, 0.5);'>인덱싱 값으로 행과 열 모두 지정</span>\n",
    "`loc[행인덱스, 열인덱스]` 로 행과 열에 대한 인덱싱을 할 수 있음"
   ]
  },
  {
   "cell_type": "code",
   "execution_count": null,
   "metadata": {},
   "outputs": [],
   "source": [
    "df.loc['a', 'A']"
   ]
  },
  {
   "cell_type": "code",
   "execution_count": null,
   "metadata": {},
   "outputs": [],
   "source": [
    "df.loc['b': ,:'C'] # B: B부터 가져온다"
   ]
  },
  {
   "cell_type": "code",
   "execution_count": null,
   "metadata": {},
   "outputs": [],
   "source": [
    "df.loc[df.A > 13, ['B', 'C']] # 13보다 작은 B,C"
   ]
  },
  {
   "cell_type": "markdown",
   "metadata": {},
   "source": [
    "#### <span style='background-color:rgba(100, 50, 200, 0.5);'>`iloc` 인덱서</span>\n",
    "`iloc` 인덱서는 `loc` 인덱서와 사용방법은 동일하나 인덱스로 지정하는 값이 순서를 나타내는 정수 값임"
   ]
  },
  {
   "cell_type": "code",
   "execution_count": null,
   "metadata": {},
   "outputs": [],
   "source": [
    "df"
   ]
  },
  {
   "cell_type": "code",
   "execution_count": null,
   "metadata": {},
   "outputs": [],
   "source": [
    "df.iloc[0, 1]"
   ]
  },
  {
   "cell_type": "code",
   "execution_count": null,
   "metadata": {},
   "outputs": [],
   "source": [
    "df.iloc[:2, 1:]"
   ]
  },
  {
   "cell_type": "code",
   "execution_count": null,
   "metadata": {},
   "outputs": [],
   "source": [
    "df.iloc[2]"
   ]
  },
  {
   "cell_type": "markdown",
   "metadata": {},
   "source": [
    "=======================예제 문제==========================="
   ]
  },
  {
   "cell_type": "markdown",
   "metadata": {},
   "source": [
    "##### <span style='color:yellow;'>파이썬으로 다음 연산을 수행한다.</span> \n",
    "\n",
    "1. real_estate 데이터베이스의 officetel_estate 테이블을 데이터프레임으로 가져옴  \n",
    "2. 상위 10개에 대한 레코드를 가지는 데이터프레임을 생성  \n",
    "3. locale이 seoul-downtown 인 레코드를 가지는 데이터프레임을 생성  \n",
    "4. between_lease_and_lease_deposit_ratio가 10 이상인 레코드의   \n",
    "locale, base_month 컬럼만 가지는 데이터프레임을 생성  "
   ]
  },
  {
   "cell_type": "code",
   "execution_count": null,
   "metadata": {},
   "outputs": [],
   "source": [
    "import mysql.connector"
   ]
  },
  {
   "cell_type": "code",
   "execution_count": null,
   "metadata": {},
   "outputs": [],
   "source": [
    "practice_df = None\n",
    "\n",
    "try:\n",
    "    conn = mysql.connector.connect(\n",
    "        host='127.0.0.1',\n",
    "        user='root',\n",
    "        password='root',\n",
    "        database='real_estate'\n",
    "    )\n",
    "\n",
    "    if conn.is_connected():\n",
    "        SQL = 'SELECT * FROM officetel_estate'\n",
    "        practice_df = pd.read_sql_query(SQL, conn, index_col='sequence')\n",
    "        \n",
    "except Exception as e:\n",
    "    pass\n",
    "finally:\n",
    "    if conn.is_connected():\n",
    "        conn.close()"
   ]
  },
  {
   "cell_type": "code",
   "execution_count": null,
   "metadata": {},
   "outputs": [],
   "source": [
    "# 1. real_estate 데이터베이스의 officetel_estate 테이블을 데이터프레임으로 가져옴\n",
    "practice_df"
   ]
  },
  {
   "cell_type": "code",
   "execution_count": null,
   "metadata": {},
   "outputs": [],
   "source": [
    "# 2. 상위 10개에 대한 레코드를 가지는 데이터프레임을 생성\n",
    "practice_df.iloc[:10]"
   ]
  },
  {
   "cell_type": "code",
   "execution_count": null,
   "metadata": {},
   "outputs": [],
   "source": [
    "# 3. locale이 seoul-downtown 인 레코드를 가지는 데이터프레임을 생성\n",
    "practice_df.loc[practice_df.locale == 'seoul-downtown']"
   ]
  },
  {
   "cell_type": "code",
   "execution_count": null,
   "metadata": {},
   "outputs": [],
   "source": [
    "# 4. between_lease_and_lease_deposit_ratio가 10 이상인 레코드의 \n",
    "#    locale, base_month 컬럼만 가지는 데이터프레임을 생성\n",
    "practice_df.loc[practice_df.between_lease_and_lease_deposit_ratio >= 10, ['locale', 'base_month']]"
   ]
  }
 ],
 "metadata": {
  "kernelspec": {
   "display_name": "Python 3",
   "language": "python",
   "name": "python3"
  },
  "language_info": {
   "codemirror_mode": {
    "name": "ipython",
    "version": 3
   },
   "file_extension": ".py",
   "mimetype": "text/x-python",
   "name": "python",
   "nbconvert_exporter": "python",
   "pygments_lexer": "ipython3",
   "version": "3.12.2"
  }
 },
 "nbformat": 4,
 "nbformat_minor": 2
}
