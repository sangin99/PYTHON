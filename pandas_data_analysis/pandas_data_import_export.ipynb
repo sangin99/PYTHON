{
 "cells": [
  {
   "cell_type": "code",
   "execution_count": null,
   "metadata": {},
   "outputs": [],
   "source": [
    "import pandas as pd\n",
    "import numpy as np"
   ]
  },
  {
   "cell_type": "markdown",
   "metadata": {},
   "source": [
    "#### <span style='background-color:rgba(200, 0, 200, 0.3);'>판다스 데이터 입출력</span>\n",
    "판다스는 아래와 같은 형식의 데이터를 입력받아 데이터프레임을 만들 수 있음\n",
    "\n",
    "- CSV\n",
    "- Excel\n",
    "- HTML\n",
    "- JSON\n",
    "- HDF5\n",
    "- SAS\n",
    "- STATA\n",
    "- SQL\n",
    "\n",
    "가장 많이 사용되는 포멧은 CSV, JSON, SQL"
   ]
  },
  {
   "cell_type": "markdown",
   "metadata": {},
   "source": [
    "`%%writefile` 명령  \n",
    "`%%writefile` 명령어를 사용하여 파이썬에서 파일을 생성할 수 있음"
   ]
  },
  {
   "cell_type": "code",
   "execution_count": null,
   "metadata": {},
   "outputs": [],
   "source": [
    "%%writefile sample1.csv\n",
    "c1, c2, c3\n",
    "1, 1.11, one\n",
    "2, 2.22, two\n",
    "3, 3.33, three"
   ]
  },
  {
   "cell_type": "markdown",
   "metadata": {},
   "source": [
    "#### <span style='background-color:rgba(200, 0, 200, 0.3);'>CSV 파일 입력</span>\n",
    "판다스 패키지의 `read_csv` 메서드를 사용하여 로컬에 존재하는 CSV 파일을 읽을 수 있음"
   ]
  },
  {
   "cell_type": "code",
   "execution_count": null,
   "metadata": {},
   "outputs": [],
   "source": [
    "pd.read_csv('sample1.csv')"
   ]
  },
  {
   "cell_type": "markdown",
   "metadata": {},
   "source": [
    "만약 데이터에 열 인덱스가 존재하지 않는다면 `read_csv` 메서드의 `names` 속성으로 열 인덱스를 지정할 수 있음"
   ]
  },
  {
   "cell_type": "code",
   "execution_count": null,
   "metadata": {},
   "outputs": [],
   "source": [
    "%%writefile sample2.csv\n",
    "1, 1.11, one\n",
    "2, 2.22, two\n",
    "3, 3.33, three"
   ]
  },
  {
   "cell_type": "code",
   "execution_count": null,
   "metadata": {},
   "outputs": [],
   "source": [
    "pd.read_csv('sample2.csv', names=['c1', 'c2', 'c3'])"
   ]
  },
  {
   "cell_type": "markdown",
   "metadata": {},
   "source": [
    "CSV의 특정 열을 행 인덱스로 사용하고 싶을 땐 `read_csv` 메서드의 `index_col` 속성으로 지정할 수 있음"
   ]
  },
  {
   "cell_type": "code",
   "execution_count": null,
   "metadata": {},
   "outputs": [],
   "source": [
    "pd.read_csv('sample1.csv', index_col='c1')"
   ]
  },
  {
   "cell_type": "markdown",
   "metadata": {},
   "source": [
    "특정한 값을 `NaN`으로 변경하고 싶으면 `na_values` 속성으로 `NaN`으로 취급할 값을 리스트로 지정함"
   ]
  },
  {
   "cell_type": "code",
   "execution_count": null,
   "metadata": {},
   "outputs": [],
   "source": [
    "%%writefile sample3.csv\n",
    "c1, c2, c3\n",
    "1, 1.11, one\n",
    "2, ,two\n",
    "누락, 3.33, three"
   ]
  },
  {
   "cell_type": "code",
   "execution_count": null,
   "metadata": {},
   "outputs": [],
   "source": [
    "df = pd.read_csv('sample3.csv', na_values=['누락', ' '])"
   ]
  },
  {
   "cell_type": "markdown",
   "metadata": {},
   "source": [
    "#### <span style='background-color:rgba(200, 0, 200, 0.3);'>Dataframe을 CSV 파일로 출력</span>\n",
    "to_csv() 메서드로 데이터프레임을 csv 파일로 출력할 수 있음"
   ]
  },
  {
   "cell_type": "code",
   "execution_count": null,
   "metadata": {},
   "outputs": [],
   "source": [
    "df"
   ]
  },
  {
   "cell_type": "code",
   "execution_count": null,
   "metadata": {},
   "outputs": [],
   "source": [
    "df.to_csv('sample4.csv')"
   ]
  },
  {
   "cell_type": "code",
   "execution_count": null,
   "metadata": {},
   "outputs": [],
   "source": [
    "!type sample4.csv"
   ]
  },
  {
   "cell_type": "markdown",
   "metadata": {},
   "source": [
    "파일을 출력할 때 구분자를 변경하고 싶으면 `sep` 속성에 구분자를 지정함"
   ]
  },
  {
   "cell_type": "code",
   "execution_count": null,
   "metadata": {},
   "outputs": [],
   "source": [
    "df.to_csv('sample5.csv', sep='_')"
   ]
  },
  {
   "cell_type": "markdown",
   "metadata": {},
   "source": [
    "`NaN` 값에 대해서 표시를 변경하고 싶으면 `na_rep` 속성에 표시할 값을 지정함"
   ]
  },
  {
   "cell_type": "code",
   "execution_count": null,
   "metadata": {},
   "outputs": [],
   "source": [
    "df.to_csv('sample6.csv', na_rep='누락')"
   ]
  },
  {
   "cell_type": "markdown",
   "metadata": {},
   "source": [
    "`index`, `header` 속성으로 행 인덱스 및 열 인덱스의 출력 여부를 지정함"
   ]
  },
  {
   "cell_type": "code",
   "execution_count": null,
   "metadata": {},
   "outputs": [],
   "source": [
    "df.to_csv('sample7.csv', index=False, header=False)"
   ]
  },
  {
   "cell_type": "markdown",
   "metadata": {},
   "source": [
    "#### <span style='background-color:rgba(200, 0, 200, 0.3);'>인터넷 상의 CSV 파일 입력</span>\n",
    "로컬에 존재하는 csv 파일뿐만 아니라 웹 상에 존재하는 csv 파일도 `read_csv()` 메서드로 읽을 수 있음"
   ]
  },
  {
   "cell_type": "code",
   "execution_count": null,
   "metadata": {},
   "outputs": [],
   "source": [
    "df = pd.read_csv('https://raw.githubusercontent.com/datascienceschool/docker_rpython/master/data/titanic.csv')"
   ]
  },
  {
   "cell_type": "code",
   "execution_count": null,
   "metadata": {},
   "outputs": [],
   "source": [
    "df"
   ]
  },
  {
   "cell_type": "code",
   "execution_count": null,
   "metadata": {},
   "outputs": [],
   "source": [
    "df.head()"
   ]
  },
  {
   "cell_type": "code",
   "execution_count": null,
   "metadata": {},
   "outputs": [],
   "source": [
    "df.tail(4)"
   ]
  },
  {
   "cell_type": "markdown",
   "metadata": {},
   "source": [
    "#### <span style='background-color:rgba(200, 0, 200, 0.3);'>데이터베이스 입력</span>\n",
    "데이터베이스에 있는 데이터를 데이터프레임으로 받아오기 위해서는 각 DBMS에 맞는 connector를 사용하여야함\n",
    "\n",
    "mysql connector  \n",
    "pip install mysql-connector-python  \n",
    "import mysql.connector  "
   ]
  },
  {
   "cell_type": "code",
   "execution_count": null,
   "metadata": {},
   "outputs": [],
   "source": [
    "import mysql.connector"
   ]
  },
  {
   "cell_type": "markdown",
   "metadata": {},
   "source": [
    "데이터 베이스 연결 후, 쿼리 작업을 할 때는 `cursor` 객체를 사용"
   ]
  },
  {
   "cell_type": "code",
   "execution_count": null,
   "metadata": {},
   "outputs": [],
   "source": [
    "try:\n",
    "    conn = mysql.connector.connect(\n",
    "        host='127.0.0.1',  # 나의 주소\n",
    "        user='root',  # 이름\n",
    "        password='root',\n",
    "        database='real_estate' # 가져올 데이터\n",
    "    )\n",
    "\n",
    "    if conn.is_connected():\n",
    "        print('데이터베이스 연결 성공')\n",
    "        \n",
    "except Exception as e:\n",
    "    print('데이터베이스 연결 실패', e)\n",
    "finally:\n",
    "    if conn.is_connected():\n",
    "        conn.close()\n",
    "        print('데이터베이스 연결 해제')"
   ]
  },
  {
   "cell_type": "markdown",
   "metadata": {},
   "source": [
    "데이터베이스 연결 후 쿼리 작업을 할 때는 `cursor` 객체를 사용"
   ]
  },
  {
   "cell_type": "code",
   "execution_count": null,
   "metadata": {},
   "outputs": [],
   "source": [
    "try:\n",
    "    conn = mysql.connector.connect(\n",
    "        host='127.0.0.1',\n",
    "        user='root',\n",
    "        password='root',\n",
    "        database='real_estate'\n",
    "    )\n",
    "\n",
    "    if conn.is_connected():\n",
    "        cursor = conn.cursor()\n",
    "        query = 'SELECT * FROM user'\n",
    "        cursor.execute(query)\n",
    "\n",
    "        for record in cursor:\n",
    "            print(record)\n",
    "        \n",
    "except Exception as e:\n",
    "    print('데이터베이스 연결 실패', e)\n",
    "finally:\n",
    "    if conn.is_connected():\n",
    "        conn.close()\n",
    "        print('데이터베이스 연결 해제')"
   ]
  },
  {
   "cell_type": "markdown",
   "metadata": {},
   "source": [
    "판다스 패키지의 `read_sql_query()`메서드로 데이터베이스 조회 결과를 바로 데이터베이스프레임으로 만들 수 있음"
   ]
  },
  {
   "cell_type": "code",
   "execution_count": null,
   "metadata": {},
   "outputs": [],
   "source": [
    "df = None\n",
    "\n",
    "try:\n",
    "    conn = mysql.connector.connect(\n",
    "        host='127.0.0.1',\n",
    "        user='root',\n",
    "        password='root',\n",
    "        database='real_estate'\n",
    "    )\n",
    "\n",
    "    if conn.is_connected():\n",
    "        cursor = conn.cursor()\n",
    "        query = 'SELECT * FROM user'\n",
    "        df = pd.read_sql_query(query, conn)\n",
    "        print(df)\n",
    "        \n",
    "except Exception as e:\n",
    "    print('데이터베이스 연결 실패', e)\n",
    "finally:\n",
    "    if conn.is_connected():\n",
    "        conn.close()\n",
    "\n",
    "df"
   ]
  },
  {
   "cell_type": "code",
   "execution_count": null,
   "metadata": {},
   "outputs": [],
   "source": [
    "df = None\n",
    "\n",
    "try:\n",
    "    conn = mysql.connector.connect(\n",
    "        host='127.0.0.1',\n",
    "        user='root',\n",
    "        password='root',\n",
    "        database='real_estate'\n",
    "    )\n",
    "\n",
    "    if conn.is_connected():\n",
    "        cursor = conn.cursor()\n",
    "        query = 'SELECT * FROM officetel_estate'\n",
    "        df = pd.read_sql_query(query, conn)\n",
    "        print(df)\n",
    "        \n",
    "except Exception as e:\n",
    "    print('데이터베이스 연결 실패', e)\n",
    "finally:\n",
    "    if conn.is_connected():\n",
    "        conn.close()\n",
    "\n",
    "df"
   ]
  }
 ],
 "metadata": {
  "kernelspec": {
   "display_name": "Python 3",
   "language": "python",
   "name": "python3"
  },
  "language_info": {
   "codemirror_mode": {
    "name": "ipython",
    "version": 3
   },
   "file_extension": ".py",
   "mimetype": "text/x-python",
   "name": "python",
   "nbconvert_exporter": "python",
   "pygments_lexer": "ipython3",
   "version": "3.12.2"
  }
 },
 "nbformat": 4,
 "nbformat_minor": 2
}
