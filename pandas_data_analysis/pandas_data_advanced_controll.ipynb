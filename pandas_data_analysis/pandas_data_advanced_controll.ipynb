{
 "cells": [
  {
   "cell_type": "code",
   "execution_count": null,
   "metadata": {},
   "outputs": [],
   "source": [
    "import pandas as pd\n",
    "import numpy as np\n",
    "import seaborn"
   ]
  },
  {
   "cell_type": "markdown",
   "metadata": {},
   "source": [
    "#### <span style='background-color:rgba(20, 200, 50, 0.4);'>`merge`함수를 통한 데이터프레임 병합</span>\n",
    "`merge()` 메서드로 공통 열 혹은 행을 기준으로 두 개의 데이터프레임을 병합 할 수 있음, 병합의 기준이 되는 열 혹은 행을 '키'라고 함  \n",
    "\n",
    "기본적으로 `merge()`메서드는 **inner join** 형태를 가짐\n",
    "**outer(full), left, right join** 형태로 변경하고자 한다면 `how` 인수에 조인 방식을 지정함  \n",
    "\n",
    "- `merge()` 메서드로 병합을 하려 한다면 동일한 이름의 열 또는 행이 존재해야함 (ex_columns명이 같아야한다)"
   ]
  },
  {
   "cell_type": "code",
   "execution_count": null,
   "metadata": {},
   "outputs": [],
   "source": [
    "df1 = pd.DataFrame(\n",
    "    {\n",
    "    '고객번호': [1001, 1002, 1003, 1004, 1005, 1006, 1007],\n",
    "    '이름': ['둘리', '도우너', '또치', '길동', '희동', '마이콜', '영희']\n",
    "    }, columns=['고객번호', '이름'])\n",
    "df1"
   ]
  },
  {
   "cell_type": "code",
   "execution_count": null,
   "metadata": {},
   "outputs": [],
   "source": [
    "df2 = pd.DataFrame(\n",
    "    {\n",
    "    '고객번호': [1001, 1001, 1005, 1006, 1008, 1001],\n",
    "    '금액': [10000, 20000, 15000, 5000, 100000, 30000]\n",
    "    }, columns=['고객번호', '금액'])\n",
    "df2"
   ]
  },
  {
   "cell_type": "code",
   "execution_count": null,
   "metadata": {},
   "outputs": [],
   "source": [
    "pd.merge(df1,df2)\n",
    "# 모든 값을 함께 출력"
   ]
  },
  {
   "cell_type": "code",
   "execution_count": null,
   "metadata": {},
   "outputs": [],
   "source": [
    "pd.merge(df1,df2,how='outer')\n",
    "# 좌 우측을 모두 보여주고 데이터가 없는 부분에는 NaN으로 표시"
   ]
  },
  {
   "cell_type": "code",
   "execution_count": null,
   "metadata": {},
   "outputs": [],
   "source": [
    "pd.merge(df1,df2,how='left')\n",
    "# 좌측에 대해 존재하는 값을 보여주고, 우측에 존재하지 않는 값은 NaN으로 표시"
   ]
  },
  {
   "cell_type": "code",
   "execution_count": null,
   "metadata": {},
   "outputs": [],
   "source": [
    "pd.merge(df1,df2,how='right')\n",
    "# 우측에 있는 값을 다 보여주고, 없는 것은 NaN으로 표시"
   ]
  },
  {
   "cell_type": "markdown",
   "metadata": {},
   "source": [
    "만약 키 값에 동일한 데이터가 여러개 존재한다면, 모든 경우의 수를 표현함"
   ]
  },
  {
   "cell_type": "code",
   "execution_count": null,
   "metadata": {},
   "outputs": [],
   "source": [
    "df1 = pd.DataFrame(\n",
    "    {\n",
    "    '품종': ['튤립', '튤립', '장미', '장미'],\n",
    "    '꽃잎길이': [1.4, 1.3, 1.5, 1.3]\n",
    "    }\n",
    ")    \n",
    "df1"
   ]
  },
  {
   "cell_type": "code",
   "execution_count": null,
   "metadata": {},
   "outputs": [],
   "source": [
    "df2 = pd.DataFrame(\n",
    "    {\n",
    "    '품종': ['튤립', '장미', '장미', '무궁화'],\n",
    "    '꽃잎너비': [0.4, 0.3, 0.5, 0.3]\n",
    "    }\n",
    ")    \n",
    "df2"
   ]
  },
  {
   "cell_type": "code",
   "execution_count": null,
   "metadata": {},
   "outputs": [],
   "source": [
    "pd.merge(df1,df2)"
   ]
  },
  {
   "cell_type": "code",
   "execution_count": null,
   "metadata": {},
   "outputs": [],
   "source": [
    "pd.merge(df1,df2,how='outer')"
   ]
  },
  {
   "cell_type": "markdown",
   "metadata": {},
   "source": [
    "- 병합되는 두 데이터 프레임의 동일한 컬럼명이 여러개 존재한다면 모두 키가 되기 때문에  \n",
    "특정한 컬럼만 키로 사용하고자 한다면 `on` 인수로 지정해야함"
   ]
  },
  {
   "cell_type": "code",
   "execution_count": null,
   "metadata": {},
   "outputs": [],
   "source": [
    "df1 = pd.DataFrame(\n",
    "    {\n",
    "        '이름':['춘향','몽룡','춘향'],\n",
    "        '날짜':['20180101','20180102','20180102'],\n",
    "        '데이터':['20000','30000','100000']\n",
    "    }\n",
    ")\n",
    "df1"
   ]
  },
  {
   "cell_type": "code",
   "execution_count": null,
   "metadata": {},
   "outputs": [],
   "source": [
    "df2 = pd.DataFrame(\n",
    "    {\n",
    "        '이름':['춘향','몽룡'],\n",
    "        '데이터':['여','남']\n",
    "    }\n",
    ")\n",
    "df2"
   ]
  },
  {
   "cell_type": "code",
   "execution_count": null,
   "metadata": {},
   "outputs": [],
   "source": [
    "pd.merge(df1,df2, how='outer')"
   ]
  },
  {
   "cell_type": "code",
   "execution_count": null,
   "metadata": {},
   "outputs": [],
   "source": [
    "pd.merge(df1,df2,on='이름')\n",
    "# 기준 열이 아니면서 이름이 같은 열에는 _x 또는 _y 와 같은 접미사가 붙는다."
   ]
  },
  {
   "cell_type": "markdown",
   "metadata": {},
   "source": [
    "- 키가 되는 기준열의 이름이 서로 다르면 `left_on` , `right_on` 인수에 사용할 키 컴럼 이름을 지정함"
   ]
  },
  {
   "cell_type": "code",
   "execution_count": null,
   "metadata": {},
   "outputs": [],
   "source": [
    "df1 = pd.DataFrame(\n",
    "    {\n",
    "        '이름':['춘향','몽룡','춘향'],\n",
    "        '날짜':['20180101','20180102','20180102']\n",
    "    }\n",
    ")\n",
    "df1"
   ]
  },
  {
   "cell_type": "code",
   "execution_count": null,
   "metadata": {},
   "outputs": [],
   "source": [
    "df2 = pd.DataFrame(\n",
    "    {\n",
    "        '성명':['춘향','몽룡','길동'],\n",
    "        '데이터':['여','남','남']\n",
    "    }\n",
    ")\n",
    "df2"
   ]
  },
  {
   "cell_type": "code",
   "execution_count": null,
   "metadata": {},
   "outputs": [],
   "source": [
    "pd.merge(df1,df2,left_on='이름',right_on='성명')\n",
    "# 둘 데이터 모두 출력"
   ]
  },
  {
   "cell_type": "markdown",
   "metadata": {},
   "source": [
    "- 일반 데이터 열이 아닌 인덱스를 기준열로 사용하려면 `left_index` 또는 `right_index` 인수를 `True` 로 설정한다."
   ]
  },
  {
   "cell_type": "code",
   "execution_count": null,
   "metadata": {},
   "outputs": [],
   "source": [
    "df1 = pd.DataFrame(\n",
    "    {\n",
    "    '도시': ['서울', '서울', '서울', '부산', '부산'],\n",
    "    '연도': [2000, 2005, 2010, 2000, 2005],\n",
    "    '인구': [980, 970, 960, 360, 350]\n",
    "    }\n",
    ")\n",
    "df1"
   ]
  },
  {
   "cell_type": "code",
   "execution_count": null,
   "metadata": {},
   "outputs": [],
   "source": [
    "df2 = pd.DataFrame(\n",
    "    np.arange(12).reshape((6,2)),\n",
    "    index =[\n",
    "        ['부산', '부산', '서울', '서울', '서울', '서울'],\n",
    "        [2000, 2005, 2000, 2005, 2010, 2015]\n",
    "    ],\n",
    "    columns=['데이터1','데이터2']\n",
    ")\n",
    "df2"
   ]
  },
  {
   "cell_type": "code",
   "execution_count": null,
   "metadata": {},
   "outputs": [],
   "source": [
    "pd.merge(df1,df2,left_on=['도시','연도'], right_index=True)\n",
    "# 일반 데이터 열이 아닌 인덱스를 기준열로 사용 "
   ]
  },
  {
   "cell_type": "markdown",
   "metadata": {},
   "source": [
    "#### <span style='background-color:rgba(20, 200, 50, 0.4);'>`join` 메서드</span>\n",
    "데이터프레임 인스턴스에 사용할 땐 `merge` 메서드 대신에 `join` 메서드를 사용가능"
   ]
  },
  {
   "cell_type": "code",
   "execution_count": null,
   "metadata": {},
   "outputs": [],
   "source": [
    "df1.join(df2,on=['도시','연도'])"
   ]
  },
  {
   "cell_type": "markdown",
   "metadata": {},
   "source": [
    "#### <span style='background-color:rgba(20, 200, 50, 0.4);'>`concat` 메서드로 데이터 연결</span>\n",
    "기준 열 지정없이 단순히 데이터를 연결하고자 할 땐 `concat()` 메서드를 사용함  \n",
    "- 단, 기본적으로 위아래로 행을 연결하기 때문에 인덱스가 중복될 수 있음  \n",
    "- 만약, 좌우로 열을 연결하고 싶을 때는 `axis=1`인수를 사용함"
   ]
  },
  {
   "cell_type": "code",
   "execution_count": null,
   "metadata": {},
   "outputs": [],
   "source": [
    "s1 = pd.Series([0,1],index=['A','B'])\n",
    "s1"
   ]
  },
  {
   "cell_type": "code",
   "execution_count": null,
   "metadata": {},
   "outputs": [],
   "source": [
    "s2 = pd.Series([2,3,4], index=['A','B','C'])\n",
    "s2"
   ]
  },
  {
   "cell_type": "code",
   "execution_count": null,
   "metadata": {},
   "outputs": [],
   "source": [
    "pd.concat([s1,s2]) # []배열로 연결"
   ]
  },
  {
   "cell_type": "code",
   "execution_count": null,
   "metadata": {},
   "outputs": [],
   "source": [
    "df1 = pd.DataFrame(\n",
    "    np.arange(6).reshape(3,2),\n",
    "    index=['a','b','c'],\n",
    "    columns=['데이터1','데이터2']\n",
    ")\n",
    "df1"
   ]
  },
  {
   "cell_type": "code",
   "execution_count": null,
   "metadata": {},
   "outputs": [],
   "source": [
    "df2 = pd.DataFrame(\n",
    "    np.arange(4).reshape(2,2),\n",
    "    index=['b','d'],\n",
    "    columns=['데이터3','데이터4']\n",
    ")\n",
    "df2"
   ]
  },
  {
   "cell_type": "code",
   "execution_count": null,
   "metadata": {},
   "outputs": [],
   "source": [
    "pd.concat([df1,df2],axis=1)\n",
    "# 없는 데이터는 NaN 으로 표시되고, 데이터를 연결시킬 수 있다"
   ]
  },
  {
   "cell_type": "markdown",
   "metadata": {},
   "source": [
    "<span style='color:YELLOW;'>예제문제)</span> \n",
    "- 어느 회사의 전반기(1월 ~ 6월) 실적을 나타내는 데이터프레임과 후반기(7월 ~ 12월) 실적을 나타내는 데이터프레임을 만든 뒤 합친다.  \n",
    "실적 정보는 “매출”, “비용”, “이익” 으로 이루어진다. (이익 = 매출 - 비용).\n",
    "\n",
    "- 또한 1년간의 총 실적을 마지막 행으로 덧붙인다."
   ]
  },
  {
   "cell_type": "code",
   "execution_count": null,
   "metadata": {},
   "outputs": [],
   "source": [
    "df1 = pd.DataFrame(\n",
    "    {\n",
    "    '매출': [10000, 11000, 9000, 12000, 13000, 8000],\n",
    "    '비용': [9000,9500,9000,10000,11000,10000],\n",
    "    '이익': [1000,1500,0,2000,2000,-2000]\n",
    "    }, \n",
    "    index = ['1월','2월','3월','4월','5월','6월'],\n",
    "    columns=['매출', '비용','이익']\n",
    ")\n",
    "df1"
   ]
  },
  {
   "cell_type": "code",
   "execution_count": null,
   "metadata": {},
   "outputs": [],
   "source": [
    "df2 = pd.DataFrame(\n",
    "    {\n",
    "    '매출': [9000, 10000, 12000, 9000, 10000, 11000],\n",
    "    '비용': [10000,12000,10000,9000,9000,9500],\n",
    "    '이익': [-1000,-2000,2000,0,1000,1500]\n",
    "    }, \n",
    "    index = ['7월','8월','9월','10월','11월','12월'],\n",
    "    columns=['매출', '비용','이익'])\n",
    "df2"
   ]
  },
  {
   "cell_type": "code",
   "execution_count": null,
   "metadata": {},
   "outputs": [],
   "source": [
    "df3 = pd.concat([df1,df2])\n",
    "df3"
   ]
  },
  {
   "cell_type": "code",
   "execution_count": null,
   "metadata": {},
   "outputs": [],
   "source": [
    "df3.loc['총실적'] = df3.sum()\n",
    "df3"
   ]
  },
  {
   "cell_type": "markdown",
   "metadata": {},
   "source": [
    "#### <span style='background-color:rgba(20, 200, 50, 0.4);'>피봇 테이블</span>\n",
    "**피봇 테이블**:데이터에 이미 존재하는 기본 열을 행 인덱스와 열 인덱스로 사용하는 테이블\n",
    "\n",
    "pandas에서 피봇테이블을 만들기 위해서는 `pivot()`메서드를 사용할 수 있음  \n",
    "`pivot()`메서드에는  \n",
    "- `index`인수로 행 인덱스로 사용할 열을 지정,  \n",
    "- `columns`인수로 열 인덱스로 사용할 열을 지정,  \n",
    "- `values()`인수로 표현할 데이터 지정"
   ]
  },
  {
   "cell_type": "code",
   "execution_count": null,
   "metadata": {},
   "outputs": [],
   "source": [
    "df1 = pd.DataFrame(\n",
    "    {\n",
    "    '도시': ['서울', '서울', '서울', '부산', '부산','부산','인천','인천'],\n",
    "    '연도': [2000, 2005, 2010, 2000, 2005, 2010, 2005, 2010],\n",
    "    '인구': [980, 970, 960, 360, 350, 350, 250, 260],\n",
    "    '지역':['수도권','수도권','수도권','경상권','경상권','경상권','수도권','수도권']\n",
    "    }\n",
    ")\n",
    "df1"
   ]
  },
  {
   "cell_type": "code",
   "execution_count": null,
   "metadata": {},
   "outputs": [],
   "source": [
    "df1.pivot(index='도시',columns='연도',values='인구')\n",
    "# 인천은 2000 자료가 없기 때문에 NaN 으로 표시됨"
   ]
  },
  {
   "cell_type": "markdown",
   "metadata": {},
   "source": [
    "- 행 인덱스나 열 인덱스를 리스트[ ]로 전달하면 다중 인덱스 피봇 테이블로 생성할 수 있음"
   ]
  },
  {
   "cell_type": "code",
   "execution_count": null,
   "metadata": {},
   "outputs": [],
   "source": [
    "df1.pivot(index=['지역','도시'],columns='연도',values='인구')"
   ]
  },
  {
   "cell_type": "markdown",
   "metadata": {},
   "source": [
    "- 행 인덱스와 열 인덱스 조건에 만족하는 데이터가 2개 이상 존재한다면 피봇 테이블을 생성할 수 없음 / 겹치면 안됨"
   ]
  },
  {
   "cell_type": "code",
   "execution_count": null,
   "metadata": {},
   "outputs": [],
   "source": [
    "df1.pivot(index='연도',columns='지역',values='인구')\n",
    "# ValueError: Index contains duplicate entries, cannot reshape : 에러 메세지\n",
    "# 중복된 데이터가 있어서 안된다는 메세지 (EX_2005-수도권-인천 : 2005-수도권-서울)"
   ]
  },
  {
   "cell_type": "markdown",
   "metadata": {},
   "source": [
    "#### <span style='background-color:rgba(200, 200, 50, 0.5);'>그룹분석</span>\n",
    "데이터가 그룹을 이룰 때 그룹의 특성을 보여주는 분석 방법  \n",
    "그룹 분석은 피봇테이블과 다르게 키에 의해서 결정되는 데이터가 여러 개 있을 경우,  \n",
    "미리 지정한 연산을 통해서 해당 그룹의 대표값을 계산함"
   ]
  },
  {
   "cell_type": "markdown",
   "metadata": {},
   "source": [
    "##### <span style='background-color:rgba(20, 200, 50, 0.4);'>`groupby` 메서드</span> \n",
    "`groupby()` 메서드는 그룹 별로 분류하여 그룹 객체를 생성하는 메서드  \n",
    "- 그룹 객체는 그룹 연산 메서드를 포함하고 있음"
   ]
  },
  {
   "cell_type": "markdown",
   "metadata": {},
   "source": [
    "##### <span style='background-color:rgba(20, 200, 50, 0.7);'>그룹 연산 메서드</span>\n",
    "- `size()` , `count()` : 그룹 데이터의 갯수\n",
    "- `mean`, `median`, `min`, `max`: 그룹 데이터의 평균, 중앙값, 최소, 최대값\n",
    "- `sum`, `prod`, `std`, `var`, `quantile` : 그룹 데이터의 합계, 곱, 표준편차, 분산, 사분위수\n",
    "- `first`, `last`: 그룹 데이터 중 가장 첫번째 데이터와 가장 나중 데이터\n",
    "\n",
    "- `agg()` , `aggregate()` : 그룹 연산 메서드를 직접 생성하여 사용하도록 하는 메서드  \n",
    "                            여러가지 그룹 연산을 동시에 하려할 때 해당 그룹 연산을 리스트로 전달하여 사용하도록 하는 메서드\n",
    "- `describe()`: 하나의 대표값이 아니라 여러개의 값을 데이터프레임으로 구하는 메서드\n",
    "- `apply()` : 하나의 대표값이 아니라 여러개의 값을 데이터프레임으로 구하는데 원하는 그룹 연산이 없을 때 메서드를 직접 생성하여 사용하도록 하는 메서드\n",
    "- `transform()`: 대표값을 생성하는 것이 아니라 데이터 자체를 변경하는 메서드"
   ]
  },
  {
   "cell_type": "code",
   "execution_count": null,
   "metadata": {},
   "outputs": [],
   "source": [
    "df2 = pd.DataFrame(\n",
    "    {\n",
    "    'key1': ['A','A','B','B','A'],\n",
    "    'key2': ['one','two','one','two','one'],\n",
    "    'data1': [1, 2, 3, 4, 5],\n",
    "    'data2': [10, 20, 30, 40, 50]\n",
    "    }\n",
    ")\n",
    "df2"
   ]
  },
  {
   "cell_type": "code",
   "execution_count": null,
   "metadata": {},
   "outputs": [],
   "source": [
    "dg = df2.groupby(df2.key1)\n",
    "dg"
   ]
  },
  {
   "cell_type": "code",
   "execution_count": null,
   "metadata": {},
   "outputs": [],
   "source": [
    "dg.groups"
   ]
  },
  {
   "cell_type": "code",
   "execution_count": null,
   "metadata": {},
   "outputs": [],
   "source": [
    "dg.sum()"
   ]
  },
  {
   "cell_type": "code",
   "execution_count": null,
   "metadata": {},
   "outputs": [],
   "source": [
    "df2.groupby(df2.key1).sum()"
   ]
  },
  {
   "cell_type": "code",
   "execution_count": null,
   "metadata": {},
   "outputs": [],
   "source": [
    "df2.groupby(df2.key1)[['data1', 'data2']].sum()"
   ]
  },
  {
   "cell_type": "code",
   "execution_count": null,
   "metadata": {},
   "outputs": [],
   "source": [
    "df2.groupby(df2.key1).sum().data1"
   ]
  },
  {
   "cell_type": "markdown",
   "metadata": {},
   "source": [
    "<span style='color:yellow;'>예제문제)  </span>  \n",
    "key1의 값을 기준으로 data1의 값을 분류하여 합계를 구한 결과를 시리즈가 아닌 데이터프레임으로 구한다."
   ]
  },
  {
   "cell_type": "code",
   "execution_count": null,
   "metadata": {},
   "outputs": [],
   "source": [
    "df2.groupby(df2.key1).sum()[['data1']]"
   ]
  },
  {
   "cell_type": "markdown",
   "metadata": {},
   "source": [
    "- 두 개 이상의 열을 기준으로 그룹 분석을 하고자 하면 `groupby` 메서드에 리스트 형태로 키를 전달하면 됨"
   ]
  },
  {
   "cell_type": "code",
   "execution_count": null,
   "metadata": {},
   "outputs": [],
   "source": [
    "df2.groupby([df2.key1, df2.key2]).sum()"
   ]
  },
  {
   "cell_type": "code",
   "execution_count": null,
   "metadata": {},
   "outputs": [],
   "source": [
    "df2.data1.groupby([df2.key1, df2.key2]).sum().unstack('key2')"
   ]
  },
  {
   "cell_type": "code",
   "execution_count": null,
   "metadata": {},
   "outputs": [],
   "source": [
    "df1['인구'].groupby(df1['지역']).mean()"
   ]
  },
  {
   "cell_type": "code",
   "execution_count": null,
   "metadata": {},
   "outputs": [],
   "source": [
    "iris = seaborn.load_dataset('iris')\n",
    "iris.head()"
   ]
  },
  {
   "cell_type": "code",
   "execution_count": null,
   "metadata": {},
   "outputs": [],
   "source": [
    "def peak_to_peak_ratio(group_row):\n",
    "    return group_row.max() / group_row.min()\n",
    "\n",
    "iris.groupby(iris.species).agg(peak_to_peak_ratio)"
   ]
  },
  {
   "cell_type": "code",
   "execution_count": null,
   "metadata": {},
   "outputs": [],
   "source": [
    "iris.groupby(iris.species).describe()"
   ]
  },
  {
   "cell_type": "code",
   "execution_count": null,
   "metadata": {},
   "outputs": [],
   "source": [
    "def top3_petal_length(group_row):\n",
    "    return group_row.sort_values(by='petal_length', ascending=False)[:3]\n",
    "\n",
    "iris.groupby(iris.species).apply(top3_petal_length)"
   ]
  },
  {
   "cell_type": "code",
   "execution_count": null,
   "metadata": {},
   "outputs": [],
   "source": [
    "def q3cut(s):\n",
    "    return pd.qcut(s, 3, labels=['소', '중', '대']).astype(str)\n",
    "\n",
    "iris['petal_length_class'] = iris.groupby(iris.species).petal_length.transform(q3cut)\n",
    "iris[['petal_length', 'petal_length_class']].head(10)"
   ]
  },
  {
   "cell_type": "markdown",
   "metadata": {},
   "source": [
    "<span style='color:yellow;'>예제문제)</span>   \n",
    "붓꽃(iris) 데이터에서 붓꽃 종(species)별로 꽃잎길이(sepal_length), 꽃잎폭(sepal_width) 등의 평균을 구하라.     \n",
    "만약 붓꽃 종(species)이 표시되지 않았을 때 이 수치들을 이용하여 붓꽃 종을 찾아낼 수 있을지 생각하라."
   ]
  },
  {
   "cell_type": "code",
   "execution_count": null,
   "metadata": {},
   "outputs": [],
   "source": [
    "iris.groupby(iris.species).mean()"
   ]
  },
  {
   "cell_type": "markdown",
   "metadata": {},
   "source": [
    "#### <span style='background-color:rgba(20, 200, 50, 0.4);'>`pivot_table`메서드</span>\n",
    "`pivot_table` 메서드는 `groupby`메서드의 결과값을 피봇테이블로 보여주는 메서드\n",
    "- `pivot_table(data, values, index, columns, aggfunc, fill_value, margins, margins_name)`\n",
    "    - `data`: 그룹 분석할 데이터프레임 (데이터프레임의 메서드일 때는 불필요)\n",
    "    - `values`: 분석할 데이터프레임에서 분석할 열\n",
    "    - `index`: 행 인덱스로 사용할 열\n",
    "    - `columns`: 열 인덱스로 사용할 열\n",
    "    - `aggfunc`: 분석 메서드\n",
    "    - `fill_value`: NaN 대체 값\n",
    "    - `margins`: 모든 데이터를 분석한 결과를 오른쪽과 아래쪽에 표시할 지 여부\n",
    "    - `margins_name`: 마진 열/행의 이름"
   ]
  },
  {
   "cell_type": "code",
   "execution_count": null,
   "metadata": {},
   "outputs": [],
   "source": [
    "df1.pivot_table(values='인구',index='도시',columns='연도')"
   ]
  },
  {
   "cell_type": "code",
   "execution_count": null,
   "metadata": {},
   "outputs": [],
   "source": [
    "df1.pivot_table(values='인구',index='도시',columns='연도',margins=True,margins_name='평균')\n",
    "# 그룹 연산에 피봇테이블을 함께 쓰게 해주는 것이 `pivot_table` 이다"
   ]
  },
  {
   "cell_type": "code",
   "execution_count": null,
   "metadata": {},
   "outputs": [],
   "source": [
    "df1.pivot_table(values='인구',index='도시',columns='연도',aggfunc='sum',margins=True,margins_name='평균')"
   ]
  },
  {
   "cell_type": "code",
   "execution_count": null,
   "metadata": {},
   "outputs": [],
   "source": [
    "df1.pivot_table(values='인구',index=['지역','도시'])"
   ]
  },
  {
   "cell_type": "code",
   "execution_count": null,
   "metadata": {},
   "outputs": [],
   "source": [
    "tips = seaborn.load_dataset('tips')\n",
    "tips.tail()"
   ]
  },
  {
   "cell_type": "markdown",
   "metadata": {},
   "source": [
    "<span style='color:yellow;'>- `tail()` 과 `head()` 차이</span>  \n",
    "\n",
    "- `tail()` : 데이터의 마지막 5개를 출력\n",
    "- `head()` : 데이터의 처음 5개를 출력"
   ]
  },
  {
   "cell_type": "code",
   "execution_count": null,
   "metadata": {},
   "outputs": [],
   "source": [
    "tips['tip_pct'] = tips.tip / tips.total_bill\n",
    "tips.head()"
   ]
  },
  {
   "cell_type": "code",
   "execution_count": null,
   "metadata": {},
   "outputs": [],
   "source": [
    "tips['tip_pct'] = tips.tip / tips.total_bill\n",
    "tips.tail()"
   ]
  },
  {
   "cell_type": "code",
   "execution_count": null,
   "metadata": {},
   "outputs": [],
   "source": [
    "tips.describe()\n",
    "# 각 열의 데이터 분포 / 실수 형태의 값으로 출력됨"
   ]
  },
  {
   "cell_type": "code",
   "execution_count": null,
   "metadata": {},
   "outputs": [],
   "source": [
    "# 성별로 나누어 데이터 갯수를 알아본다\n",
    "tips.groupby('sex').count()"
   ]
  },
  {
   "cell_type": "code",
   "execution_count": null,
   "metadata": {},
   "outputs": [],
   "source": [
    "# `size` 명령을 사용 / `size` 명령은 NaN이 있어도 상관하지 않는다.\n",
    "tips.groupby(\"sex\").size()"
   ]
  },
  {
   "cell_type": "code",
   "execution_count": null,
   "metadata": {},
   "outputs": [],
   "source": [
    "# 성별과 흡연유무로 나누어 데이터의 갯수를 알아본다\n",
    "tips.groupby([\"sex\", \"smoker\"]).size()"
   ]
  },
  {
   "cell_type": "code",
   "execution_count": null,
   "metadata": {},
   "outputs": [],
   "source": [
    "# 피봇 테이블 형태로 변경\n",
    "tips.pivot_table(values=\"tip_pct\", index=\"sex\", columns=\"smoker\", aggfunc=\"count\", margins=True)"
   ]
  },
  {
   "cell_type": "markdown",
   "metadata": {},
   "source": [
    "<span style='color:yellow;'>======================================================================================</span>  "
   ]
  },
  {
   "cell_type": "code",
   "execution_count": null,
   "metadata": {},
   "outputs": [],
   "source": [
    "# 성별에 따른 평균 팁 비율을 살펴본다\n",
    "tips.groupby(\"sex\")[[\"tip_pct\"]].mean()"
   ]
  },
  {
   "cell_type": "code",
   "execution_count": null,
   "metadata": {},
   "outputs": [],
   "source": [
    "# 흡연 여부에 따른 평균 팁 비율을 살펴본다\n",
    "tips.groupby(\"smoker\")[[\"tip_pct\"]].mean()"
   ]
  },
  {
   "cell_type": "markdown",
   "metadata": {},
   "source": [
    "<span style='color:yellow;'>=========================== 출력되는 테이블의 차이 =============================</span>  "
   ]
  },
  {
   "cell_type": "code",
   "execution_count": null,
   "metadata": {},
   "outputs": [],
   "source": [
    "# `pivot_table` 명령을 사용할 수도 있다.\n",
    "tips.pivot_table(\"tip_pct\", [\"sex\", \"smoker\"])"
   ]
  },
  {
   "cell_type": "code",
   "execution_count": null,
   "metadata": {},
   "outputs": [],
   "source": [
    "tips.pivot_table(\"tip_pct\", \"sex\", \"smoker\")"
   ]
  },
  {
   "cell_type": "markdown",
   "metadata": {},
   "source": [
    "<span style='color:yellow;'>=========================================================================</span>  "
   ]
  },
  {
   "cell_type": "code",
   "execution_count": null,
   "metadata": {},
   "outputs": [],
   "source": [
    "# `describe` 을 통해 성별에 따른 통계값을 한번에 본다\n",
    "tips.groupby(\"sex\")[[\"tip_pct\"]].describe()"
   ]
  },
  {
   "cell_type": "code",
   "execution_count": null,
   "metadata": {},
   "outputs": [],
   "source": [
    "# `describe` 을 통해 성별과 흡연여부에 따른 통계값을 한번에 본다\n",
    "tips.groupby([\"sex\", \"smoker\"])[[\"tip_pct\"]].describe()"
   ]
  },
  {
   "cell_type": "markdown",
   "metadata": {},
   "source": [
    "<span style='color:pink;'>>>>>>>>>>>>>>>>>>>>>>>>>>>>>>>>>>>>>>>>>>>>>>>>>>>>>>>>>>>>>></span> "
   ]
  },
  {
   "cell_type": "code",
   "execution_count": null,
   "metadata": {},
   "outputs": [],
   "source": [
    "# 각 그룹에서 가장 많은 팁과 가장 적은 팁의 차이를 알아보자. \n",
    "# 이 계산을 해 줄 수 있는 그룹연산 함수가 없으므로 함수를 직접 만들고 agg 메서드를 사용한다.\n",
    "def peak_to_peak(group_row):\n",
    "    return group_row.max() - group_row.min()\n",
    "\n",
    "\n",
    "tips.groupby([\"sex\", \"smoker\"])[[\"tip\"]].agg(peak_to_peak)"
   ]
  },
  {
   "cell_type": "code",
   "execution_count": null,
   "metadata": {},
   "outputs": [],
   "source": [
    "# 여러가지 그룹연산을 동시에 하고 싶다면 리스트를 이용\n",
    "tips.groupby([\"sex\", \"smoker\"])[[\"total_bill\"]].agg([\"mean\", peak_to_peak])"
   ]
  },
  {
   "cell_type": "code",
   "execution_count": null,
   "metadata": {},
   "outputs": [],
   "source": [
    "# 데이터 열마다 다른 연산을 하고 싶다면 열 라벨과 연산 이름(또는 함수)를 딕셔너리로 넣는다.\n",
    "tips.groupby([\"sex\", \"smoker\"]).agg(\n",
    "    {'tip_pct': 'mean', \n",
    "     'total_bill': peak_to_peak\n",
    "     }\n",
    "    )"
   ]
  },
  {
   "cell_type": "code",
   "execution_count": null,
   "metadata": {},
   "outputs": [],
   "source": [
    "# `pivot_table` 명령으로 좀 더 상세하게 분석한다\n",
    "tips.pivot_table(values=['tip_pct', 'size'], index=['sex', 'day'], columns='smoker')"
   ]
  },
  {
   "cell_type": "code",
   "execution_count": null,
   "metadata": {},
   "outputs": [],
   "source": [
    "# 값은 sum(합)으로 보여주고, 만약 NaN 값이 있다면 0 으로 표시해라\n",
    "tips.pivot_table(values='size', index=['time', 'sex', 'smoker'], columns='day',aggfunc='sum', fill_value=0)"
   ]
  }
 ],
 "metadata": {
  "kernelspec": {
   "display_name": "Python 3",
   "language": "python",
   "name": "python3"
  },
  "language_info": {
   "codemirror_mode": {
    "name": "ipython",
    "version": 3
   },
   "file_extension": ".py",
   "mimetype": "text/x-python",
   "name": "python",
   "nbconvert_exporter": "python",
   "pygments_lexer": "ipython3",
   "version": "3.12.2"
  }
 },
 "nbformat": 4,
 "nbformat_minor": 2
}
