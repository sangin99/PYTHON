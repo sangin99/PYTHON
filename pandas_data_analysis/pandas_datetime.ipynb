{
 "cells": [
  {
   "cell_type": "code",
   "execution_count": 2,
   "metadata": {},
   "outputs": [],
   "source": [
    "import pandas as pd\n",
    "import numpy as np"
   ]
  },
  {
   "cell_type": "markdown",
   "metadata": {},
   "source": [
    "#### <span style='background-color:rgba(100, 20, 150, 0.7);'>`Datetime` 인덱스</span>  \n",
    "시계열 객체인 `Series`는 시계열 데이터를 관리하는 객체이기 때문에 데이터가 시간에 의해 관리되어저야함  \n",
    "지금까지는 단순한 인덱스로 사용하였는데 이를 시계열로 표한하기 위해서 `DatetimeIndex`를 사용해야함\n",
    "- `DatetimeIndex`는 시계열 인덱스를 사용하기 위한 인덱스이며, \n",
    "- `판다스.to_datetime` , `판다스.date_range` 메서드를 사용하여 생성할 수 있음  "
   ]
  },
  {
   "cell_type": "markdown",
   "metadata": {},
   "source": [
    "`to_datetime()`메서드는 날짜 및 시간을 나타내는 문자열을 Datetime 자료형으로 변경한 후 `Datetimelndex`를 생성함"
   ]
  },
  {
   "cell_type": "code",
   "execution_count": 3,
   "metadata": {},
   "outputs": [
    {
     "data": {
      "text/plain": [
       "DatetimeIndex(['2018-01-01', '2018-01-04', '2018-01-05', '2018-01-06'], dtype='datetime64[ns]', freq=None)"
      ]
     },
     "execution_count": 3,
     "metadata": {},
     "output_type": "execute_result"
    }
   ],
   "source": [
    "# 날짜 및 시간을 나타내는 문자열 리스트 만들기\n",
    "date_str = ['2018, 1, 1','2018, 1, 4', '2018, 1, 5','2018, 1, 6']\n",
    "idx = pd.to_datetime(date_str)\n",
    "idx\n",
    "    # 문자열을 (,) 가 아닌 (-),(/),(.) 으로 가능! / 단, 전부 동일하게 입력 해야한다"
   ]
  },
  {
   "cell_type": "code",
   "execution_count": 4,
   "metadata": {},
   "outputs": [
    {
     "data": {
      "text/plain": [
       "2018-01-01    0.586162\n",
       "2018-01-04    1.906138\n",
       "2018-01-05   -2.151345\n",
       "2018-01-06   -0.327181\n",
       "dtype: float64"
      ]
     },
     "execution_count": 4,
     "metadata": {},
     "output_type": "execute_result"
    }
   ],
   "source": [
    "# 만든 데이터타임 인덱스를 시리즈에 넣기 -> 날짜 형태의 인덱스 지정\n",
    "s = pd.Series(np.random.randn(4),index=idx)\n",
    "s                                # 인덱스 타입 : datetime 타입\n"
   ]
  },
  {
   "cell_type": "code",
   "execution_count": 5,
   "metadata": {},
   "outputs": [
    {
     "data": {
      "text/plain": [
       "2018, 1, 1   -0.019936\n",
       "2018, 1, 4   -0.168245\n",
       "2018, 1, 5   -0.243509\n",
       "2018, 1, 6   -1.173934\n",
       "dtype: float64"
      ]
     },
     "execution_count": 5,
     "metadata": {},
     "output_type": "execute_result"
    }
   ],
   "source": [
    "s = pd.Series(np.random.randn(4),index=date_str)\n",
    "s                                # 인덱스 타입 : string 타입 "
   ]
  },
  {
   "cell_type": "markdown",
   "metadata": {},
   "source": [
    "`date_range` 메서드는 날짜 및 시간에 대해서 시작일과 종료일 / 시작일과 기간을 입력하여 범위 내의 `DatetimeIndex`를 생성"
   ]
  },
  {
   "cell_type": "code",
   "execution_count": 10,
   "metadata": {},
   "outputs": [
    {
     "data": {
      "text/plain": [
       "DatetimeIndex(['2024-01-01', '2024-01-02', '2024-01-03', '2024-01-04',\n",
       "               '2024-01-05', '2024-01-06', '2024-01-07', '2024-01-08',\n",
       "               '2024-01-09', '2024-01-10', '2024-01-11', '2024-01-12',\n",
       "               '2024-01-13', '2024-01-14', '2024-01-15'],\n",
       "              dtype='datetime64[ns]', freq='D')"
      ]
     },
     "execution_count": 10,
     "metadata": {},
     "output_type": "execute_result"
    }
   ],
   "source": [
    "pd.date_range('2024-01-01','2024-01-15')  # 32일 처럼 존재하지 날짜는 X"
   ]
  },
  {
   "cell_type": "code",
   "execution_count": 8,
   "metadata": {},
   "outputs": [
    {
     "data": {
      "text/plain": [
       "DatetimeIndex(['2024-01-01', '2024-01-02', '2024-01-03', '2024-01-04',\n",
       "               '2024-01-05', '2024-01-06', '2024-01-07', '2024-01-08',\n",
       "               '2024-01-09', '2024-01-10'],\n",
       "              dtype='datetime64[ns]', freq='D')"
      ]
     },
     "execution_count": 8,
     "metadata": {},
     "output_type": "execute_result"
    }
   ],
   "source": [
    "# 기간으로 표현\n",
    "pd.date_range('2024-01-01' , periods=10)"
   ]
  },
  {
   "cell_type": "markdown",
   "metadata": {},
   "source": [
    "`freq` 인수로 특정한 날짜만 생성되도록 할 수 있음\n",
    "- `s`: 초 / `T`: 분 / `H`: 시간\n",
    "- `D`: 일(day)\n",
    "- `B`: 주말이 아닌 평일\n",
    "- `W`: 주(일요일)\n",
    "- `W-MON`: 주(월요일)\n",
    "- `M`: 각 달(month)의 마지막 날\n",
    "- `MS`: 각 달의 첫날\n",
    "- `BM`: 주말이 아닌 평일 중에서 각 달의 마지막 날\n",
    "- `BMS`: 주말이 아닌 평일 중에서 각 달의 첫날\n",
    "- `WOM-2THU`: 각 달의 두번째 목요일\n",
    "- `QE-JAN`: 각 분기의 첫달의 마지막 날\n",
    "- `QE-DEC`: 각 분기의 마지막 달의 마지막 날"
   ]
  },
  {
   "cell_type": "code",
   "execution_count": 17,
   "metadata": {},
   "outputs": [
    {
     "data": {
      "text/plain": [
       "DatetimeIndex(['2024-02-29 09:48:00', '2024-02-29 09:48:01',\n",
       "               '2024-02-29 09:48:02', '2024-02-29 09:48:03',\n",
       "               '2024-02-29 09:48:04', '2024-02-29 09:48:05',\n",
       "               '2024-02-29 09:48:06', '2024-02-29 09:48:07',\n",
       "               '2024-02-29 09:48:08', '2024-02-29 09:48:09',\n",
       "               '2024-02-29 09:48:10'],\n",
       "              dtype='datetime64[ns]', freq='s')"
      ]
     },
     "execution_count": 17,
     "metadata": {},
     "output_type": "execute_result"
    }
   ],
   "source": [
    "# s : 초 단위 출력\n",
    "pd.date_range('2024-02-29 09:48:00','2024-02-29 09:48:10',freq='s')"
   ]
  },
  {
   "cell_type": "code",
   "execution_count": 13,
   "metadata": {},
   "outputs": [
    {
     "data": {
      "text/plain": [
       "DatetimeIndex(['2024-02-01', '2024-02-02', '2024-02-05', '2024-02-06',\n",
       "               '2024-02-07', '2024-02-08', '2024-02-09', '2024-02-12',\n",
       "               '2024-02-13', '2024-02-14', '2024-02-15', '2024-02-16',\n",
       "               '2024-02-19', '2024-02-20', '2024-02-21', '2024-02-22',\n",
       "               '2024-02-23', '2024-02-26', '2024-02-27', '2024-02-28',\n",
       "               '2024-02-29'],\n",
       "              dtype='datetime64[ns]', freq='B')"
      ]
     },
     "execution_count": 13,
     "metadata": {},
     "output_type": "execute_result"
    }
   ],
   "source": [
    "# B : 평일 만 출력\n",
    "pd.date_range('2024-02-01','2024-02-29',freq='B')"
   ]
  },
  {
   "cell_type": "code",
   "execution_count": 19,
   "metadata": {},
   "outputs": [
    {
     "data": {
      "text/plain": [
       "DatetimeIndex(['2024-01-31', '2024-04-30', '2024-07-31', '2024-10-31'], dtype='datetime64[ns]', freq='QE-JAN')"
      ]
     },
     "execution_count": 19,
     "metadata": {},
     "output_type": "execute_result"
    }
   ],
   "source": [
    "# QE-JAN : 각 분기별 첫 달의 마지막 날\n",
    "pd.date_range('2024-01-01','2024-12-31',freq='QE-JAN')"
   ]
  },
  {
   "cell_type": "code",
   "execution_count": 18,
   "metadata": {},
   "outputs": [
    {
     "data": {
      "text/plain": [
       "DatetimeIndex(['2024-03-31', '2024-06-30', '2024-09-30', '2024-12-31'], dtype='datetime64[ns]', freq='QE-DEC')"
      ]
     },
     "execution_count": 18,
     "metadata": {},
     "output_type": "execute_result"
    }
   ],
   "source": [
    "# QE-DEC : 각 분기별 마지막 달의 마지막 날\n",
    "pd.date_range('2024-01-01','2024-12-31',freq='QE-DEC')"
   ]
  }
 ],
 "metadata": {
  "kernelspec": {
   "display_name": "Python 3",
   "language": "python",
   "name": "python3"
  },
  "language_info": {
   "codemirror_mode": {
    "name": "ipython",
    "version": 3
   },
   "file_extension": ".py",
   "mimetype": "text/x-python",
   "name": "python",
   "nbconvert_exporter": "python",
   "pygments_lexer": "ipython3",
   "version": "3.12.2"
  }
 },
 "nbformat": 4,
 "nbformat_minor": 2
}
