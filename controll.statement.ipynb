{
 "cells": [
  {
   "cell_type": "code",
   "execution_count": null,
   "metadata": {},
   "outputs": [],
   "source": [
    "# 조건문\n",
    "# ============\n",
    "# if 조건문\n",
    "# if 조건:\n",
    "#   실행문"
   ]
  },
  {
   "cell_type": "code",
   "execution_count": 6,
   "metadata": {},
   "outputs": [],
   "source": [
    "number = 12345\n",
    "# :이후에 새로운 코드 블럭이 생기면 라인 첫 공백을 모두 같게 해야함\n",
    "if number % 2 == 0:\n",
    "    print('짝수')\n",
    "    print('짝수')  # 앞에 여백(띄어쓰기) 크기가 같아야한다 "
   ]
  },
  {
   "cell_type": "code",
   "execution_count": null,
   "metadata": {},
   "outputs": [],
   "source": [
    "# else\n",
    "# else:\n",
    "#   실행문"
   ]
  },
  {
   "cell_type": "code",
   "execution_count": 7,
   "metadata": {},
   "outputs": [
    {
     "name": "stdout",
     "output_type": "stream",
     "text": [
      "홀수\n"
     ]
    }
   ],
   "source": [
    "if number % 2 == 0:\n",
    "    print('짝수')\n",
    "else:\n",
    "    print('홀수')"
   ]
  },
  {
   "cell_type": "code",
   "execution_count": 44,
   "metadata": {},
   "outputs": [
    {
     "name": "stdout",
     "output_type": "stream",
     "text": [
      "윤년이 아닙니다\n"
     ]
    }
   ],
   "source": [
    "# 윤년 - ex)\n",
    "# 4202년이 윤년인지 아닌지 판별하는 조건문을 작성하시오\n",
    "# 윤년이면 '윤년입니다' 아니면, '윤년이 아닙니다'\n",
    "year = 2007\n",
    "if (year % 400 == 0) | ((year % 4 == 0) & (year % 100 != 0)):    # 연산자 우선순위 참고\n",
    "    print('윤년입니다')                                           # 다른 방법은 논리연산자 (and . or) 사용\n",
    "else:\n",
    "    print('윤년이 아닙니다') "
   ]
  },
  {
   "cell_type": "code",
   "execution_count": null,
   "metadata": {},
   "outputs": [],
   "source": [
    "# elif (else if): 상위의 조건이 false이면서 elif의 조건이 true이면 실행\n",
    "#==============================\n",
    "# elif 조건:\n",
    "#      실행문"
   ]
  },
  {
   "cell_type": "code",
   "execution_count": 45,
   "metadata": {},
   "outputs": [
    {
     "name": "stdout",
     "output_type": "stream",
     "text": [
      "C\n"
     ]
    }
   ],
   "source": [
    "score = 80\n",
    "if score > 90:\n",
    "    print('A')    # false 다음실행\n",
    "elif score > 80:\n",
    "    print('B')    # false 다음실행\n",
    "elif score > 70:\n",
    "    print('C')    # true 출력!\n",
    "elif score > 60:\n",
    "    print('D')\n",
    "else:\n",
    "    print('F')   "
   ]
  },
  {
   "cell_type": "code",
   "execution_count": 46,
   "metadata": {},
   "outputs": [],
   "source": [
    "# 수박 등급 구하기\n",
    "# # 어떤 농장에서는 수박이 10kg이 넘으면 1등급, \n",
    "# 그렇지 않고 7kg이 넘으면 2등급, \n",
    "# 그렇지 않고 4kg이 넘으면 3등급, \n",
    "# 나머지는 4등급을 준다고 한다. \n",
    "# 이 수박의 등급을 정하는 파이썬 코드를 작성한다. \n",
    "\n",
    "warter_melon = 6"
   ]
  },
  {
   "cell_type": "code",
   "execution_count": 47,
   "metadata": {},
   "outputs": [
    {
     "name": "stdout",
     "output_type": "stream",
     "text": [
      "3등급\n"
     ]
    }
   ],
   "source": [
    "if warter_melon > 10:\n",
    "    print('1등급')\n",
    "elif warter_melon > 7:\n",
    "    print('2등급')\n",
    "elif warter_melon > 4:\n",
    "    print('3등급')\n",
    "else:\n",
    "    print('4등급')"
   ]
  },
  {
   "cell_type": "code",
   "execution_count": null,
   "metadata": {},
   "outputs": [],
   "source": [
    "# 중첩 if\n",
    "# if 문 안에 if문 (!들여쓰기 조심!)"
   ]
  },
  {
   "cell_type": "code",
   "execution_count": 49,
   "metadata": {},
   "outputs": [
    {
     "name": "stdout",
     "output_type": "stream",
     "text": [
      "합격\n"
     ]
    }
   ],
   "source": [
    "# 중학교에서 팔굽혀펴기 시험을 보는데 남자는 10번 이상을 해야 합격(Pass)이고 아니면 불합격(Fail)이다. \n",
    "# 여자는 5번 이상을 해야 합격이라면 다음과 같이 프로그램\n",
    "\n",
    "gender = '남자'\n",
    "count = 11\n",
    "if gender == '남자':    # 남자일 때\n",
    "    if count >= 10:\n",
    "        print('합격')\n",
    "    else:\n",
    "        print('불합격')\n",
    "else:                   # 여자일 때\n",
    "    if count >= 5:\n",
    "        print('합격')\n",
    "    else:\n",
    "        print('불합격')"
   ]
  },
  {
   "cell_type": "code",
   "execution_count": 56,
   "metadata": {},
   "outputs": [
    {
     "name": "stdout",
     "output_type": "stream",
     "text": [
      "불합격\n"
     ]
    }
   ],
   "source": [
    "gender = '여자'\n",
    "count = 4\n",
    "if ((gender == '남자') and (count >= 10)) or ((gender == '여자') and (count >= 5)):\n",
    "    print('합격')    \n",
    "else:\n",
    "    print('불합격')"
   ]
  },
  {
   "cell_type": "code",
   "execution_count": null,
   "metadata": {},
   "outputs": [],
   "source": []
  }
 ],
 "metadata": {
  "kernelspec": {
   "display_name": "Python 3",
   "language": "python",
   "name": "python3"
  },
  "language_info": {
   "codemirror_mode": {
    "name": "ipython",
    "version": 3
   },
   "file_extension": ".py",
   "mimetype": "text/x-python",
   "name": "python",
   "nbconvert_exporter": "python",
   "pygments_lexer": "ipython3",
   "version": "3.12.2"
  }
 },
 "nbformat": 4,
 "nbformat_minor": 2
}
